{
 "cells": [
  {
   "cell_type": "code",
   "execution_count": 1,
   "metadata": {},
   "outputs": [],
   "source": [
    "import yfinance as yf\n",
    "import numpy as np\n",
    "from sklearn import preprocessing\n",
    "from ta.momentum import RSIIndicator\n",
    "from collections import deque\n",
    "import random\n",
    "import tensorflow as tf"
   ]
  },
  {
   "attachments": {},
   "cell_type": "markdown",
   "metadata": {},
   "source": [
    "### Defining constants\n"
   ]
  },
  {
   "cell_type": "code",
   "execution_count": 2,
   "metadata": {},
   "outputs": [],
   "source": [
    "# Length of sequences to feed the RNN\n",
    "SEQUENCE_LEN = 60\n",
    "# Number of periods (days if data is daily) in the future to predict\n",
    "PREDICTION_PERIOD_OFFSET = 20\n",
    "\n",
    "RELEVANT_COLS = [\"Close\"]\n",
    "INDICATOR_TICKERS = [\"QQQ\", \"^TNX\", \"^VIX\", \"CL=F\"]"
   ]
  },
  {
   "attachments": {},
   "cell_type": "markdown",
   "metadata": {},
   "source": [
    "### Defining functions for testing\n"
   ]
  },
  {
   "cell_type": "code",
   "execution_count": 3,
   "metadata": {},
   "outputs": [],
   "source": [
    "def classify(current, future):\n",
    "    return int(float(future) > float(current))\n",
    "\n",
    "\n",
    "def preprocess_df(df, balance=True):\n",
    "    TICKER = df.columns[0].split(\"_\")[0]\n",
    "    CLOSE_NAME = TICKER + \"_Close\"\n",
    "    df = df.drop(columns=[f\"{CLOSE_NAME}_Future\"])\n",
    "\n",
    "    # Scale the data\n",
    "    for col in df.columns:\n",
    "        if col != \"Target\":\n",
    "            df[col] = df[col].pct_change()\n",
    "            df.replace([np.inf, -np.inf], np.nan, inplace=True)\n",
    "            df.dropna(inplace=True)\n",
    "            df[col] = preprocessing.scale(df[col].values)\n",
    "\n",
    "    df.dropna(inplace=True)\n",
    "\n",
    "    # Create the sequential data\n",
    "    sequential_data = []\n",
    "    data_queue = deque(maxlen=SEQUENCE_LEN)\n",
    "\n",
    "    for datapoint in df.values:\n",
    "        # The last column in the df will be Target. Don't include this in the list of independent features\n",
    "        data_queue.append(datapoint[:-1])\n",
    "        if len(data_queue) == SEQUENCE_LEN:\n",
    "            sequential_data.append([np.array(data_queue), datapoint[-1]])\n",
    "\n",
    "    random.shuffle(sequential_data)\n",
    "\n",
    "    if balance:\n",
    "        # Balance the dataset\n",
    "        buys = []\n",
    "        sells = []\n",
    "\n",
    "        for seq, target in sequential_data:\n",
    "            if target:\n",
    "                buys.append([seq, target])\n",
    "            else:\n",
    "                sells.append([seq, target])\n",
    "\n",
    "        minimum = min(len(buys), len(sells))\n",
    "\n",
    "        random.shuffle(buys)\n",
    "        random.shuffle(sells)\n",
    "\n",
    "        buys = buys[:minimum]\n",
    "        sells = sells[:minimum]\n",
    "\n",
    "        sequential_data = buys + sells\n",
    "        random.shuffle(sequential_data)\n",
    "\n",
    "    X = []\n",
    "    y = []\n",
    "\n",
    "    for seq, target in sequential_data:\n",
    "        X.append(seq)\n",
    "        y.append(target)\n",
    "\n",
    "    return np.array(X), np.array(y)\n",
    "\n",
    "\n",
    "def test_ticker(model, TICKER):\n",
    "    df = yf.download(TICKER, progress=False)\n",
    "    df.drop(columns=[\"Adj Close\"], inplace=True)\n",
    "    df.rename(columns={col: f\"{TICKER}_{col}\" for col in df.columns}, inplace=True)\n",
    "\n",
    "    df[f\"{TICKER}_Close_RSI\"] = RSIIndicator(df[f\"{TICKER}_Close\"], window=14).rsi()\n",
    "    df.dropna(inplace=True)\n",
    "\n",
    "    for ticker in INDICATOR_TICKERS:\n",
    "        ticker_data = yf.download(ticker, progress=False)\n",
    "        relevant_data = ticker_data[RELEVANT_COLS]\n",
    "        relevant_data = relevant_data.rename(\n",
    "            columns={col: f\"{ticker}_{col}\" for col in RELEVANT_COLS}\n",
    "        )\n",
    "        # Only join if the columns aren't already present\n",
    "        if len(set(df.columns).intersection(set(relevant_data.columns))) == 0:\n",
    "            df = df.join(relevant_data)\n",
    "\n",
    "    df.dropna(inplace=True)\n",
    "\n",
    "    df[f\"{TICKER}_Close_Future\"] = df[f\"{TICKER}_Close\"].shift(\n",
    "        -1 * PREDICTION_PERIOD_OFFSET\n",
    "    )\n",
    "    df.dropna(inplace=True)\n",
    "    df[\"Target\"] = list(\n",
    "        map(classify, df[f\"{TICKER}_Close\"], df[f\"{TICKER}_Close_Future\"])\n",
    "    )\n",
    "\n",
    "    X, y = preprocess_df(df, balance=False)\n",
    "\n",
    "    logits = model(X, training=False)\n",
    "    predictions = tf.math.argmax(logits, axis=1, output_type=tf.int64)\n",
    "    test_accuracy = tf.keras.metrics.Accuracy()\n",
    "\n",
    "    return test_accuracy(predictions, y)"
   ]
  },
  {
   "attachments": {},
   "cell_type": "markdown",
   "metadata": {},
   "source": [
    "### Loading in the model\n"
   ]
  },
  {
   "cell_type": "code",
   "execution_count": 4,
   "metadata": {},
   "outputs": [],
   "source": [
    "model = tf.keras.models.load_model(\"./models/SPY\")"
   ]
  },
  {
   "cell_type": "code",
   "execution_count": 5,
   "metadata": {},
   "outputs": [
    {
     "name": "stdout",
     "output_type": "stream",
     "text": [
      "Model: \"sequential_4\"\n",
      "_________________________________________________________________\n",
      " Layer (type)                Output Shape              Param #   \n",
      "=================================================================\n",
      " lstm_4 (LSTM)               (None, 20)                2480      \n",
      "                                                                 \n",
      " dropout_12 (Dropout)        (None, 20)                0         \n",
      "                                                                 \n",
      " batch_normalization_4 (Batc  (None, 20)               80        \n",
      " hNormalization)                                                 \n",
      "                                                                 \n",
      " dense_12 (Dense)            (None, 16)                336       \n",
      "                                                                 \n",
      " dropout_13 (Dropout)        (None, 16)                0         \n",
      "                                                                 \n",
      " dense_13 (Dense)            (None, 16)                272       \n",
      "                                                                 \n",
      " dropout_14 (Dropout)        (None, 16)                0         \n",
      "                                                                 \n",
      " dense_14 (Dense)            (None, 2)                 34        \n",
      "                                                                 \n",
      "=================================================================\n",
      "Total params: 3,202\n",
      "Trainable params: 3,162\n",
      "Non-trainable params: 40\n",
      "_________________________________________________________________\n"
     ]
    }
   ],
   "source": [
    "model.summary()"
   ]
  },
  {
   "attachments": {},
   "cell_type": "markdown",
   "metadata": {},
   "source": [
    "### Testing the model on various tickers\n"
   ]
  },
  {
   "cell_type": "code",
   "execution_count": 6,
   "metadata": {},
   "outputs": [
    {
     "data": {
      "text/plain": [
       "<tf.Tensor: shape=(), dtype=float32, numpy=0.5209003>"
      ]
     },
     "execution_count": 6,
     "metadata": {},
     "output_type": "execute_result"
    }
   ],
   "source": [
    "test_ticker(model, \"SHEL\")"
   ]
  },
  {
   "cell_type": "code",
   "execution_count": 7,
   "metadata": {},
   "outputs": [
    {
     "data": {
      "text/plain": [
       "<tf.Tensor: shape=(), dtype=float32, numpy=0.5299066>"
      ]
     },
     "execution_count": 7,
     "metadata": {},
     "output_type": "execute_result"
    }
   ],
   "source": [
    "test_ticker(model, \"HDB\")"
   ]
  },
  {
   "cell_type": "code",
   "execution_count": 8,
   "metadata": {},
   "outputs": [
    {
     "data": {
      "text/plain": [
       "<tf.Tensor: shape=(), dtype=float32, numpy=0.5090195>"
      ]
     },
     "execution_count": 8,
     "metadata": {},
     "output_type": "execute_result"
    }
   ],
   "source": [
    "test_ticker(model, \"SAP\")"
   ]
  },
  {
   "cell_type": "code",
   "execution_count": 9,
   "metadata": {},
   "outputs": [
    {
     "data": {
      "text/plain": [
       "<tf.Tensor: shape=(), dtype=float32, numpy=0.53563136>"
      ]
     },
     "execution_count": 9,
     "metadata": {},
     "output_type": "execute_result"
    }
   ],
   "source": [
    "test_ticker(model, \"RY\")"
   ]
  },
  {
   "cell_type": "code",
   "execution_count": null,
   "metadata": {},
   "outputs": [],
   "source": []
  }
 ],
 "metadata": {
  "kernelspec": {
   "display_name": ".venv",
   "language": "python",
   "name": "python3"
  },
  "language_info": {
   "codemirror_mode": {
    "name": "ipython",
    "version": 3
   },
   "file_extension": ".py",
   "mimetype": "text/x-python",
   "name": "python",
   "nbconvert_exporter": "python",
   "pygments_lexer": "ipython3",
   "version": "3.10.4"
  },
  "orig_nbformat": 4
 },
 "nbformat": 4,
 "nbformat_minor": 2
}
