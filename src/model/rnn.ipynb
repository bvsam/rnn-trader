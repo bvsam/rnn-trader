{
 "cells": [
  {
   "cell_type": "code",
   "execution_count": 1,
   "metadata": {},
   "outputs": [],
   "source": [
    "import yfinance as yf\n",
    "import numpy as np\n",
    "from sklearn import preprocessing\n",
    "from sklearn.metrics import confusion_matrix, ConfusionMatrixDisplay, classification_report\n",
    "from ta.momentum import RSIIndicator\n",
    "from collections import deque\n",
    "import random\n",
    "import tensorflow as tf\n",
    "from tensorflow.keras.models import Sequential\n",
    "from tensorflow.keras.layers import Dense, Dropout, LSTM, BatchNormalization\n",
    "from tensorflow.keras.optimizers import Adam\n",
    "from tensorflow.keras.optimizers.schedules import ExponentialDecay\n",
    "import datetime\n",
    "from matplotlib import pyplot as plt\n",
    "import time"
   ]
  },
  {
   "attachments": {},
   "cell_type": "markdown",
   "metadata": {},
   "source": [
    "## Gathering the data\n"
   ]
  },
  {
   "attachments": {},
   "cell_type": "markdown",
   "metadata": {},
   "source": [
    "### Downloading the initial data\n"
   ]
  },
  {
   "cell_type": "code",
   "execution_count": 2,
   "metadata": {},
   "outputs": [],
   "source": [
    "# The main ticker to predict\n",
    "TICKER_TO_PREDICT = \"SPY\"\n",
    "# Supplementary tickers to help prediction\n",
    "INDICATOR_TICKERS = [\"QQQ\", \"^TNX\", \"^VIX\", \"CL=F\"]\n",
    "\n",
    "# The last day which the training data should include\n",
    "TRAIN_DATA_END_DATE = datetime.datetime(2023, 5, 2)"
   ]
  },
  {
   "cell_type": "code",
   "execution_count": 3,
   "metadata": {},
   "outputs": [
    {
     "data": {
      "text/html": [
       "<div>\n",
       "<style scoped>\n",
       "    .dataframe tbody tr th:only-of-type {\n",
       "        vertical-align: middle;\n",
       "    }\n",
       "\n",
       "    .dataframe tbody tr th {\n",
       "        vertical-align: top;\n",
       "    }\n",
       "\n",
       "    .dataframe thead th {\n",
       "        text-align: right;\n",
       "    }\n",
       "</style>\n",
       "<table border=\"1\" class=\"dataframe\">\n",
       "  <thead>\n",
       "    <tr style=\"text-align: right;\">\n",
       "      <th></th>\n",
       "      <th>SPY_Open</th>\n",
       "      <th>SPY_High</th>\n",
       "      <th>SPY_Low</th>\n",
       "      <th>SPY_Close</th>\n",
       "      <th>SPY_Volume</th>\n",
       "    </tr>\n",
       "    <tr>\n",
       "      <th>Date</th>\n",
       "      <th></th>\n",
       "      <th></th>\n",
       "      <th></th>\n",
       "      <th></th>\n",
       "      <th></th>\n",
       "    </tr>\n",
       "  </thead>\n",
       "  <tbody>\n",
       "    <tr>\n",
       "      <th>1993-01-29</th>\n",
       "      <td>43.968750</td>\n",
       "      <td>43.968750</td>\n",
       "      <td>43.750000</td>\n",
       "      <td>43.937500</td>\n",
       "      <td>1003200</td>\n",
       "    </tr>\n",
       "    <tr>\n",
       "      <th>1993-02-01</th>\n",
       "      <td>43.968750</td>\n",
       "      <td>44.250000</td>\n",
       "      <td>43.968750</td>\n",
       "      <td>44.250000</td>\n",
       "      <td>480500</td>\n",
       "    </tr>\n",
       "    <tr>\n",
       "      <th>1993-02-02</th>\n",
       "      <td>44.218750</td>\n",
       "      <td>44.375000</td>\n",
       "      <td>44.125000</td>\n",
       "      <td>44.343750</td>\n",
       "      <td>201300</td>\n",
       "    </tr>\n",
       "    <tr>\n",
       "      <th>1993-02-03</th>\n",
       "      <td>44.406250</td>\n",
       "      <td>44.843750</td>\n",
       "      <td>44.375000</td>\n",
       "      <td>44.812500</td>\n",
       "      <td>529400</td>\n",
       "    </tr>\n",
       "    <tr>\n",
       "      <th>1993-02-04</th>\n",
       "      <td>44.968750</td>\n",
       "      <td>45.093750</td>\n",
       "      <td>44.468750</td>\n",
       "      <td>45.000000</td>\n",
       "      <td>531500</td>\n",
       "    </tr>\n",
       "    <tr>\n",
       "      <th>...</th>\n",
       "      <td>...</td>\n",
       "      <td>...</td>\n",
       "      <td>...</td>\n",
       "      <td>...</td>\n",
       "      <td>...</td>\n",
       "    </tr>\n",
       "    <tr>\n",
       "      <th>2023-04-26</th>\n",
       "      <td>406.720001</td>\n",
       "      <td>407.839996</td>\n",
       "      <td>403.779999</td>\n",
       "      <td>404.359985</td>\n",
       "      <td>80447000</td>\n",
       "    </tr>\n",
       "    <tr>\n",
       "      <th>2023-04-27</th>\n",
       "      <td>407.000000</td>\n",
       "      <td>412.690002</td>\n",
       "      <td>406.739990</td>\n",
       "      <td>412.410004</td>\n",
       "      <td>92968400</td>\n",
       "    </tr>\n",
       "    <tr>\n",
       "      <th>2023-04-28</th>\n",
       "      <td>411.489990</td>\n",
       "      <td>415.940002</td>\n",
       "      <td>411.429993</td>\n",
       "      <td>415.929993</td>\n",
       "      <td>89335600</td>\n",
       "    </tr>\n",
       "    <tr>\n",
       "      <th>2023-05-01</th>\n",
       "      <td>415.470001</td>\n",
       "      <td>417.619995</td>\n",
       "      <td>415.269989</td>\n",
       "      <td>415.510010</td>\n",
       "      <td>62122300</td>\n",
       "    </tr>\n",
       "    <tr>\n",
       "      <th>2023-05-02</th>\n",
       "      <td>414.769989</td>\n",
       "      <td>414.820007</td>\n",
       "      <td>407.820007</td>\n",
       "      <td>410.839996</td>\n",
       "      <td>103998500</td>\n",
       "    </tr>\n",
       "  </tbody>\n",
       "</table>\n",
       "<p>7619 rows × 5 columns</p>\n",
       "</div>"
      ],
      "text/plain": [
       "              SPY_Open    SPY_High     SPY_Low   SPY_Close  SPY_Volume\n",
       "Date                                                                  \n",
       "1993-01-29   43.968750   43.968750   43.750000   43.937500     1003200\n",
       "1993-02-01   43.968750   44.250000   43.968750   44.250000      480500\n",
       "1993-02-02   44.218750   44.375000   44.125000   44.343750      201300\n",
       "1993-02-03   44.406250   44.843750   44.375000   44.812500      529400\n",
       "1993-02-04   44.968750   45.093750   44.468750   45.000000      531500\n",
       "...                ...         ...         ...         ...         ...\n",
       "2023-04-26  406.720001  407.839996  403.779999  404.359985    80447000\n",
       "2023-04-27  407.000000  412.690002  406.739990  412.410004    92968400\n",
       "2023-04-28  411.489990  415.940002  411.429993  415.929993    89335600\n",
       "2023-05-01  415.470001  417.619995  415.269989  415.510010    62122300\n",
       "2023-05-02  414.769989  414.820007  407.820007  410.839996   103998500\n",
       "\n",
       "[7619 rows x 5 columns]"
      ]
     },
     "execution_count": 3,
     "metadata": {},
     "output_type": "execute_result"
    }
   ],
   "source": [
    "df = yf.download(\n",
    "    TICKER_TO_PREDICT,\n",
    "    end=(TRAIN_DATA_END_DATE + datetime.timedelta(1)).strftime(\"%Y-%m-%d\"),\n",
    "    progress=False,\n",
    ")\n",
    "df.drop(columns=[\"Adj Close\"], inplace=True)\n",
    "df.rename(\n",
    "    columns={col: f\"{TICKER_TO_PREDICT}_{col}\" for col in df.columns}, inplace=True\n",
    ")\n",
    "CLOSE_NAME = f\"{TICKER_TO_PREDICT}_Close\"\n",
    "\n",
    "df"
   ]
  },
  {
   "attachments": {},
   "cell_type": "markdown",
   "metadata": {},
   "source": [
    "### Adding technical indicators\n"
   ]
  },
  {
   "cell_type": "code",
   "execution_count": 4,
   "metadata": {},
   "outputs": [
    {
     "data": {
      "text/html": [
       "<div>\n",
       "<style scoped>\n",
       "    .dataframe tbody tr th:only-of-type {\n",
       "        vertical-align: middle;\n",
       "    }\n",
       "\n",
       "    .dataframe tbody tr th {\n",
       "        vertical-align: top;\n",
       "    }\n",
       "\n",
       "    .dataframe thead th {\n",
       "        text-align: right;\n",
       "    }\n",
       "</style>\n",
       "<table border=\"1\" class=\"dataframe\">\n",
       "  <thead>\n",
       "    <tr style=\"text-align: right;\">\n",
       "      <th></th>\n",
       "      <th>SPY_Open</th>\n",
       "      <th>SPY_High</th>\n",
       "      <th>SPY_Low</th>\n",
       "      <th>SPY_Close</th>\n",
       "      <th>SPY_Volume</th>\n",
       "      <th>SPY_Close_RSI</th>\n",
       "    </tr>\n",
       "    <tr>\n",
       "      <th>Date</th>\n",
       "      <th></th>\n",
       "      <th></th>\n",
       "      <th></th>\n",
       "      <th></th>\n",
       "      <th></th>\n",
       "      <th></th>\n",
       "    </tr>\n",
       "  </thead>\n",
       "  <tbody>\n",
       "    <tr>\n",
       "      <th>1993-02-18</th>\n",
       "      <td>43.937500</td>\n",
       "      <td>43.937500</td>\n",
       "      <td>42.812500</td>\n",
       "      <td>43.406250</td>\n",
       "      <td>378100</td>\n",
       "      <td>31.343145</td>\n",
       "    </tr>\n",
       "    <tr>\n",
       "      <th>1993-02-19</th>\n",
       "      <td>43.406250</td>\n",
       "      <td>43.562500</td>\n",
       "      <td>43.343750</td>\n",
       "      <td>43.562500</td>\n",
       "      <td>34900</td>\n",
       "      <td>36.183605</td>\n",
       "    </tr>\n",
       "    <tr>\n",
       "      <th>1993-02-22</th>\n",
       "      <td>43.687500</td>\n",
       "      <td>43.781250</td>\n",
       "      <td>43.562500</td>\n",
       "      <td>43.718750</td>\n",
       "      <td>513600</td>\n",
       "      <td>40.686975</td>\n",
       "    </tr>\n",
       "    <tr>\n",
       "      <th>1993-02-23</th>\n",
       "      <td>43.843750</td>\n",
       "      <td>43.875000</td>\n",
       "      <td>43.468750</td>\n",
       "      <td>43.687500</td>\n",
       "      <td>373700</td>\n",
       "      <td>40.077825</td>\n",
       "    </tr>\n",
       "    <tr>\n",
       "      <th>1993-02-24</th>\n",
       "      <td>43.718750</td>\n",
       "      <td>44.250000</td>\n",
       "      <td>43.718750</td>\n",
       "      <td>44.250000</td>\n",
       "      <td>26300</td>\n",
       "      <td>53.556588</td>\n",
       "    </tr>\n",
       "    <tr>\n",
       "      <th>...</th>\n",
       "      <td>...</td>\n",
       "      <td>...</td>\n",
       "      <td>...</td>\n",
       "      <td>...</td>\n",
       "      <td>...</td>\n",
       "      <td>...</td>\n",
       "    </tr>\n",
       "    <tr>\n",
       "      <th>2023-04-26</th>\n",
       "      <td>406.720001</td>\n",
       "      <td>407.839996</td>\n",
       "      <td>403.779999</td>\n",
       "      <td>404.359985</td>\n",
       "      <td>80447000</td>\n",
       "      <td>45.737663</td>\n",
       "    </tr>\n",
       "    <tr>\n",
       "      <th>2023-04-27</th>\n",
       "      <td>407.000000</td>\n",
       "      <td>412.690002</td>\n",
       "      <td>406.739990</td>\n",
       "      <td>412.410004</td>\n",
       "      <td>92968400</td>\n",
       "      <td>57.205268</td>\n",
       "    </tr>\n",
       "    <tr>\n",
       "      <th>2023-04-28</th>\n",
       "      <td>411.489990</td>\n",
       "      <td>415.940002</td>\n",
       "      <td>411.429993</td>\n",
       "      <td>415.929993</td>\n",
       "      <td>89335600</td>\n",
       "      <td>61.078657</td>\n",
       "    </tr>\n",
       "    <tr>\n",
       "      <th>2023-05-01</th>\n",
       "      <td>415.470001</td>\n",
       "      <td>417.619995</td>\n",
       "      <td>415.269989</td>\n",
       "      <td>415.510010</td>\n",
       "      <td>62122300</td>\n",
       "      <td>60.376485</td>\n",
       "    </tr>\n",
       "    <tr>\n",
       "      <th>2023-05-02</th>\n",
       "      <td>414.769989</td>\n",
       "      <td>414.820007</td>\n",
       "      <td>407.820007</td>\n",
       "      <td>410.839996</td>\n",
       "      <td>103998500</td>\n",
       "      <td>53.070503</td>\n",
       "    </tr>\n",
       "  </tbody>\n",
       "</table>\n",
       "<p>7606 rows × 6 columns</p>\n",
       "</div>"
      ],
      "text/plain": [
       "              SPY_Open    SPY_High     SPY_Low   SPY_Close  SPY_Volume   \n",
       "Date                                                                     \n",
       "1993-02-18   43.937500   43.937500   42.812500   43.406250      378100  \\\n",
       "1993-02-19   43.406250   43.562500   43.343750   43.562500       34900   \n",
       "1993-02-22   43.687500   43.781250   43.562500   43.718750      513600   \n",
       "1993-02-23   43.843750   43.875000   43.468750   43.687500      373700   \n",
       "1993-02-24   43.718750   44.250000   43.718750   44.250000       26300   \n",
       "...                ...         ...         ...         ...         ...   \n",
       "2023-04-26  406.720001  407.839996  403.779999  404.359985    80447000   \n",
       "2023-04-27  407.000000  412.690002  406.739990  412.410004    92968400   \n",
       "2023-04-28  411.489990  415.940002  411.429993  415.929993    89335600   \n",
       "2023-05-01  415.470001  417.619995  415.269989  415.510010    62122300   \n",
       "2023-05-02  414.769989  414.820007  407.820007  410.839996   103998500   \n",
       "\n",
       "            SPY_Close_RSI  \n",
       "Date                       \n",
       "1993-02-18      31.343145  \n",
       "1993-02-19      36.183605  \n",
       "1993-02-22      40.686975  \n",
       "1993-02-23      40.077825  \n",
       "1993-02-24      53.556588  \n",
       "...                   ...  \n",
       "2023-04-26      45.737663  \n",
       "2023-04-27      57.205268  \n",
       "2023-04-28      61.078657  \n",
       "2023-05-01      60.376485  \n",
       "2023-05-02      53.070503  \n",
       "\n",
       "[7606 rows x 6 columns]"
      ]
     },
     "execution_count": 4,
     "metadata": {},
     "output_type": "execute_result"
    }
   ],
   "source": [
    "df[f\"{CLOSE_NAME}_RSI\"] = RSIIndicator(df[CLOSE_NAME], window=14).rsi()\n",
    "df.dropna(inplace=True)\n",
    "\n",
    "df"
   ]
  },
  {
   "attachments": {},
   "cell_type": "markdown",
   "metadata": {},
   "source": [
    "### Joining the indicator ticker data\n"
   ]
  },
  {
   "cell_type": "code",
   "execution_count": 5,
   "metadata": {},
   "outputs": [
    {
     "name": "stdout",
     "output_type": "stream",
     "text": [
      "QQQ Index(['Open', 'High', 'Low', 'Close', 'Adj Close', 'Volume'], dtype='object')\n",
      "^TNX Index(['Open', 'High', 'Low', 'Close', 'Adj Close', 'Volume'], dtype='object')\n",
      "^VIX Index(['Open', 'High', 'Low', 'Close', 'Adj Close', 'Volume'], dtype='object')\n",
      "CL=F Index(['Open', 'High', 'Low', 'Close', 'Adj Close', 'Volume'], dtype='object')\n"
     ]
    }
   ],
   "source": [
    "for ticker in INDICATOR_TICKERS:\n",
    "    ticker_data = yf.download(ticker, progress=False)\n",
    "    print(ticker, ticker_data.columns)"
   ]
  },
  {
   "cell_type": "code",
   "execution_count": 6,
   "metadata": {},
   "outputs": [
    {
     "name": "stdout",
     "output_type": "stream",
     "text": [
      "Index(['SPY_Open', 'SPY_High', 'SPY_Low', 'SPY_Close', 'SPY_Volume',\n",
      "       'SPY_Close_RSI', 'QQQ_Close', '^TNX_Close', '^VIX_Close', 'CL=F_Close'],\n",
      "      dtype='object')\n"
     ]
    },
    {
     "data": {
      "text/html": [
       "<div>\n",
       "<style scoped>\n",
       "    .dataframe tbody tr th:only-of-type {\n",
       "        vertical-align: middle;\n",
       "    }\n",
       "\n",
       "    .dataframe tbody tr th {\n",
       "        vertical-align: top;\n",
       "    }\n",
       "\n",
       "    .dataframe thead th {\n",
       "        text-align: right;\n",
       "    }\n",
       "</style>\n",
       "<table border=\"1\" class=\"dataframe\">\n",
       "  <thead>\n",
       "    <tr style=\"text-align: right;\">\n",
       "      <th></th>\n",
       "      <th>SPY_Open</th>\n",
       "      <th>SPY_High</th>\n",
       "      <th>SPY_Low</th>\n",
       "      <th>SPY_Close</th>\n",
       "      <th>SPY_Volume</th>\n",
       "      <th>SPY_Close_RSI</th>\n",
       "      <th>QQQ_Close</th>\n",
       "      <th>^TNX_Close</th>\n",
       "      <th>^VIX_Close</th>\n",
       "      <th>CL=F_Close</th>\n",
       "    </tr>\n",
       "    <tr>\n",
       "      <th>Date</th>\n",
       "      <th></th>\n",
       "      <th></th>\n",
       "      <th></th>\n",
       "      <th></th>\n",
       "      <th></th>\n",
       "      <th></th>\n",
       "      <th></th>\n",
       "      <th></th>\n",
       "      <th></th>\n",
       "      <th></th>\n",
       "    </tr>\n",
       "  </thead>\n",
       "  <tbody>\n",
       "    <tr>\n",
       "      <th>2000-08-23</th>\n",
       "      <td>149.812500</td>\n",
       "      <td>151.281250</td>\n",
       "      <td>149.281250</td>\n",
       "      <td>150.843750</td>\n",
       "      <td>5483200</td>\n",
       "      <td>60.811526</td>\n",
       "      <td>97.062500</td>\n",
       "      <td>5.725</td>\n",
       "      <td>17.379999</td>\n",
       "      <td>32.049999</td>\n",
       "    </tr>\n",
       "    <tr>\n",
       "      <th>2000-08-24</th>\n",
       "      <td>151.156250</td>\n",
       "      <td>151.500000</td>\n",
       "      <td>150.500000</td>\n",
       "      <td>151.312500</td>\n",
       "      <td>4529000</td>\n",
       "      <td>62.225237</td>\n",
       "      <td>98.562500</td>\n",
       "      <td>5.716</td>\n",
       "      <td>17.040001</td>\n",
       "      <td>31.629999</td>\n",
       "    </tr>\n",
       "    <tr>\n",
       "      <th>2000-08-25</th>\n",
       "      <td>151.156250</td>\n",
       "      <td>151.625000</td>\n",
       "      <td>150.937500</td>\n",
       "      <td>151.250000</td>\n",
       "      <td>2822200</td>\n",
       "      <td>61.904574</td>\n",
       "      <td>98.031250</td>\n",
       "      <td>5.721</td>\n",
       "      <td>16.530001</td>\n",
       "      <td>32.049999</td>\n",
       "    </tr>\n",
       "    <tr>\n",
       "      <th>2000-08-28</th>\n",
       "      <td>151.250000</td>\n",
       "      <td>152.906250</td>\n",
       "      <td>151.250000</td>\n",
       "      <td>151.765625</td>\n",
       "      <td>5518700</td>\n",
       "      <td>63.572401</td>\n",
       "      <td>98.500000</td>\n",
       "      <td>5.766</td>\n",
       "      <td>16.540001</td>\n",
       "      <td>32.869999</td>\n",
       "    </tr>\n",
       "    <tr>\n",
       "      <th>2000-08-29</th>\n",
       "      <td>151.437500</td>\n",
       "      <td>151.875000</td>\n",
       "      <td>150.906250</td>\n",
       "      <td>151.796875</td>\n",
       "      <td>3561900</td>\n",
       "      <td>63.676195</td>\n",
       "      <td>99.000000</td>\n",
       "      <td>5.808</td>\n",
       "      <td>16.889999</td>\n",
       "      <td>32.720001</td>\n",
       "    </tr>\n",
       "    <tr>\n",
       "      <th>...</th>\n",
       "      <td>...</td>\n",
       "      <td>...</td>\n",
       "      <td>...</td>\n",
       "      <td>...</td>\n",
       "      <td>...</td>\n",
       "      <td>...</td>\n",
       "      <td>...</td>\n",
       "      <td>...</td>\n",
       "      <td>...</td>\n",
       "      <td>...</td>\n",
       "    </tr>\n",
       "    <tr>\n",
       "      <th>2023-04-26</th>\n",
       "      <td>406.720001</td>\n",
       "      <td>407.839996</td>\n",
       "      <td>403.779999</td>\n",
       "      <td>404.359985</td>\n",
       "      <td>80447000</td>\n",
       "      <td>45.737663</td>\n",
       "      <td>311.869995</td>\n",
       "      <td>3.432</td>\n",
       "      <td>18.840000</td>\n",
       "      <td>74.300003</td>\n",
       "    </tr>\n",
       "    <tr>\n",
       "      <th>2023-04-27</th>\n",
       "      <td>407.000000</td>\n",
       "      <td>412.690002</td>\n",
       "      <td>406.739990</td>\n",
       "      <td>412.410004</td>\n",
       "      <td>92968400</td>\n",
       "      <td>57.205268</td>\n",
       "      <td>320.350006</td>\n",
       "      <td>3.528</td>\n",
       "      <td>17.030001</td>\n",
       "      <td>74.760002</td>\n",
       "    </tr>\n",
       "    <tr>\n",
       "      <th>2023-04-28</th>\n",
       "      <td>411.489990</td>\n",
       "      <td>415.940002</td>\n",
       "      <td>411.429993</td>\n",
       "      <td>415.929993</td>\n",
       "      <td>89335600</td>\n",
       "      <td>61.078657</td>\n",
       "      <td>322.559998</td>\n",
       "      <td>3.452</td>\n",
       "      <td>15.780000</td>\n",
       "      <td>76.779999</td>\n",
       "    </tr>\n",
       "    <tr>\n",
       "      <th>2023-05-01</th>\n",
       "      <td>415.470001</td>\n",
       "      <td>417.619995</td>\n",
       "      <td>415.269989</td>\n",
       "      <td>415.510010</td>\n",
       "      <td>62122300</td>\n",
       "      <td>60.376485</td>\n",
       "      <td>322.190002</td>\n",
       "      <td>3.574</td>\n",
       "      <td>16.080000</td>\n",
       "      <td>75.660004</td>\n",
       "    </tr>\n",
       "    <tr>\n",
       "      <th>2023-05-02</th>\n",
       "      <td>414.769989</td>\n",
       "      <td>414.820007</td>\n",
       "      <td>407.820007</td>\n",
       "      <td>410.839996</td>\n",
       "      <td>103998500</td>\n",
       "      <td>53.070503</td>\n",
       "      <td>319.380005</td>\n",
       "      <td>3.439</td>\n",
       "      <td>17.780001</td>\n",
       "      <td>71.660004</td>\n",
       "    </tr>\n",
       "  </tbody>\n",
       "</table>\n",
       "<p>5688 rows × 10 columns</p>\n",
       "</div>"
      ],
      "text/plain": [
       "              SPY_Open    SPY_High     SPY_Low   SPY_Close  SPY_Volume   \n",
       "Date                                                                     \n",
       "2000-08-23  149.812500  151.281250  149.281250  150.843750     5483200  \\\n",
       "2000-08-24  151.156250  151.500000  150.500000  151.312500     4529000   \n",
       "2000-08-25  151.156250  151.625000  150.937500  151.250000     2822200   \n",
       "2000-08-28  151.250000  152.906250  151.250000  151.765625     5518700   \n",
       "2000-08-29  151.437500  151.875000  150.906250  151.796875     3561900   \n",
       "...                ...         ...         ...         ...         ...   \n",
       "2023-04-26  406.720001  407.839996  403.779999  404.359985    80447000   \n",
       "2023-04-27  407.000000  412.690002  406.739990  412.410004    92968400   \n",
       "2023-04-28  411.489990  415.940002  411.429993  415.929993    89335600   \n",
       "2023-05-01  415.470001  417.619995  415.269989  415.510010    62122300   \n",
       "2023-05-02  414.769989  414.820007  407.820007  410.839996   103998500   \n",
       "\n",
       "            SPY_Close_RSI   QQQ_Close  ^TNX_Close  ^VIX_Close  CL=F_Close  \n",
       "Date                                                                       \n",
       "2000-08-23      60.811526   97.062500       5.725   17.379999   32.049999  \n",
       "2000-08-24      62.225237   98.562500       5.716   17.040001   31.629999  \n",
       "2000-08-25      61.904574   98.031250       5.721   16.530001   32.049999  \n",
       "2000-08-28      63.572401   98.500000       5.766   16.540001   32.869999  \n",
       "2000-08-29      63.676195   99.000000       5.808   16.889999   32.720001  \n",
       "...                   ...         ...         ...         ...         ...  \n",
       "2023-04-26      45.737663  311.869995       3.432   18.840000   74.300003  \n",
       "2023-04-27      57.205268  320.350006       3.528   17.030001   74.760002  \n",
       "2023-04-28      61.078657  322.559998       3.452   15.780000   76.779999  \n",
       "2023-05-01      60.376485  322.190002       3.574   16.080000   75.660004  \n",
       "2023-05-02      53.070503  319.380005       3.439   17.780001   71.660004  \n",
       "\n",
       "[5688 rows x 10 columns]"
      ]
     },
     "execution_count": 6,
     "metadata": {},
     "output_type": "execute_result"
    }
   ],
   "source": [
    "RELEVANT_COLS = [\"Close\"]\n",
    "\n",
    "for ticker in INDICATOR_TICKERS:\n",
    "    ticker_data = yf.download(ticker, progress=False)\n",
    "    relevant_data = ticker_data[RELEVANT_COLS]\n",
    "    relevant_data = relevant_data.rename(\n",
    "        columns={col: f\"{ticker}_{col}\" for col in RELEVANT_COLS}\n",
    "    )\n",
    "    # Only join if the columns aren't already present\n",
    "    if len(set(df.columns).intersection(set(relevant_data.columns))) == 0:\n",
    "        df = df.join(relevant_data)\n",
    "\n",
    "df.dropna(inplace=True)\n",
    "print(df.columns)\n",
    "\n",
    "df"
   ]
  },
  {
   "attachments": {},
   "cell_type": "markdown",
   "metadata": {},
   "source": [
    "## Processing the data\n"
   ]
  },
  {
   "attachments": {},
   "cell_type": "markdown",
   "metadata": {},
   "source": [
    "### Offsetting the data and adding target values\n"
   ]
  },
  {
   "cell_type": "code",
   "execution_count": 7,
   "metadata": {},
   "outputs": [],
   "source": [
    "# Length of sequences to feed the RNN\n",
    "SEQUENCE_LEN = 60\n",
    "# Number of periods (days if data is daily) in the future to predict\n",
    "PREDICTION_PERIOD_OFFSET = 20"
   ]
  },
  {
   "cell_type": "code",
   "execution_count": 8,
   "metadata": {},
   "outputs": [],
   "source": [
    "def classify(current, future):\n",
    "    return int(float(future) > float(current))"
   ]
  },
  {
   "cell_type": "code",
   "execution_count": 9,
   "metadata": {},
   "outputs": [
    {
     "data": {
      "text/html": [
       "<div>\n",
       "<style scoped>\n",
       "    .dataframe tbody tr th:only-of-type {\n",
       "        vertical-align: middle;\n",
       "    }\n",
       "\n",
       "    .dataframe tbody tr th {\n",
       "        vertical-align: top;\n",
       "    }\n",
       "\n",
       "    .dataframe thead th {\n",
       "        text-align: right;\n",
       "    }\n",
       "</style>\n",
       "<table border=\"1\" class=\"dataframe\">\n",
       "  <thead>\n",
       "    <tr style=\"text-align: right;\">\n",
       "      <th></th>\n",
       "      <th>SPY_Close</th>\n",
       "      <th>SPY_Close_Future</th>\n",
       "      <th>Target</th>\n",
       "    </tr>\n",
       "    <tr>\n",
       "      <th>Date</th>\n",
       "      <th></th>\n",
       "      <th></th>\n",
       "      <th></th>\n",
       "    </tr>\n",
       "  </thead>\n",
       "  <tbody>\n",
       "    <tr>\n",
       "      <th>2000-08-23</th>\n",
       "      <td>150.843750</td>\n",
       "      <td>142.687500</td>\n",
       "      <td>0</td>\n",
       "    </tr>\n",
       "    <tr>\n",
       "      <th>2000-08-24</th>\n",
       "      <td>151.312500</td>\n",
       "      <td>145.281250</td>\n",
       "      <td>0</td>\n",
       "    </tr>\n",
       "    <tr>\n",
       "      <th>2000-08-25</th>\n",
       "      <td>151.250000</td>\n",
       "      <td>144.250000</td>\n",
       "      <td>0</td>\n",
       "    </tr>\n",
       "    <tr>\n",
       "      <th>2000-08-28</th>\n",
       "      <td>151.765625</td>\n",
       "      <td>142.406250</td>\n",
       "      <td>0</td>\n",
       "    </tr>\n",
       "    <tr>\n",
       "      <th>2000-08-29</th>\n",
       "      <td>151.796875</td>\n",
       "      <td>143.156250</td>\n",
       "      <td>0</td>\n",
       "    </tr>\n",
       "    <tr>\n",
       "      <th>...</th>\n",
       "      <td>...</td>\n",
       "      <td>...</td>\n",
       "      <td>...</td>\n",
       "    </tr>\n",
       "    <tr>\n",
       "      <th>2023-03-28</th>\n",
       "      <td>395.600006</td>\n",
       "      <td>404.359985</td>\n",
       "      <td>1</td>\n",
       "    </tr>\n",
       "    <tr>\n",
       "      <th>2023-03-29</th>\n",
       "      <td>401.350006</td>\n",
       "      <td>412.410004</td>\n",
       "      <td>1</td>\n",
       "    </tr>\n",
       "    <tr>\n",
       "      <th>2023-03-30</th>\n",
       "      <td>403.700012</td>\n",
       "      <td>415.929993</td>\n",
       "      <td>1</td>\n",
       "    </tr>\n",
       "    <tr>\n",
       "      <th>2023-03-31</th>\n",
       "      <td>409.390015</td>\n",
       "      <td>415.510010</td>\n",
       "      <td>1</td>\n",
       "    </tr>\n",
       "    <tr>\n",
       "      <th>2023-04-03</th>\n",
       "      <td>410.950012</td>\n",
       "      <td>410.839996</td>\n",
       "      <td>0</td>\n",
       "    </tr>\n",
       "  </tbody>\n",
       "</table>\n",
       "<p>5668 rows × 3 columns</p>\n",
       "</div>"
      ],
      "text/plain": [
       "             SPY_Close  SPY_Close_Future  Target\n",
       "Date                                            \n",
       "2000-08-23  150.843750        142.687500       0\n",
       "2000-08-24  151.312500        145.281250       0\n",
       "2000-08-25  151.250000        144.250000       0\n",
       "2000-08-28  151.765625        142.406250       0\n",
       "2000-08-29  151.796875        143.156250       0\n",
       "...                ...               ...     ...\n",
       "2023-03-28  395.600006        404.359985       1\n",
       "2023-03-29  401.350006        412.410004       1\n",
       "2023-03-30  403.700012        415.929993       1\n",
       "2023-03-31  409.390015        415.510010       1\n",
       "2023-04-03  410.950012        410.839996       0\n",
       "\n",
       "[5668 rows x 3 columns]"
      ]
     },
     "execution_count": 9,
     "metadata": {},
     "output_type": "execute_result"
    }
   ],
   "source": [
    "df[f\"{CLOSE_NAME}_Future\"] = df[CLOSE_NAME].shift(-1 * PREDICTION_PERIOD_OFFSET)\n",
    "df.dropna(inplace=True)\n",
    "df[\"Target\"] = list(map(classify, df[CLOSE_NAME], df[f\"{CLOSE_NAME}_Future\"]))\n",
    "\n",
    "df[[CLOSE_NAME, f\"{CLOSE_NAME}_Future\", \"Target\"]]"
   ]
  },
  {
   "attachments": {},
   "cell_type": "markdown",
   "metadata": {},
   "source": [
    "### Splitting the data into training, validation and test sets\n"
   ]
  },
  {
   "cell_type": "code",
   "execution_count": 10,
   "metadata": {},
   "outputs": [],
   "source": [
    "# The percentage of data to keep for the validation and test set\n",
    "NON_TRAIN_PCT = 0.2\n",
    "# The percentage of non-training data to use for the validation set (the rest is used for the test set)\n",
    "VALIDATION_TRAIN_RATIO = 0.75"
   ]
  },
  {
   "cell_type": "code",
   "execution_count": 11,
   "metadata": {},
   "outputs": [
    {
     "data": {
      "text/html": [
       "<div>\n",
       "<style scoped>\n",
       "    .dataframe tbody tr th:only-of-type {\n",
       "        vertical-align: middle;\n",
       "    }\n",
       "\n",
       "    .dataframe tbody tr th {\n",
       "        vertical-align: top;\n",
       "    }\n",
       "\n",
       "    .dataframe thead th {\n",
       "        text-align: right;\n",
       "    }\n",
       "</style>\n",
       "<table border=\"1\" class=\"dataframe\">\n",
       "  <thead>\n",
       "    <tr style=\"text-align: right;\">\n",
       "      <th></th>\n",
       "      <th>SPY_Open</th>\n",
       "      <th>SPY_High</th>\n",
       "      <th>SPY_Low</th>\n",
       "      <th>SPY_Close</th>\n",
       "      <th>SPY_Volume</th>\n",
       "      <th>SPY_Close_RSI</th>\n",
       "      <th>QQQ_Close</th>\n",
       "      <th>^TNX_Close</th>\n",
       "      <th>^VIX_Close</th>\n",
       "      <th>CL=F_Close</th>\n",
       "      <th>SPY_Close_Future</th>\n",
       "      <th>Target</th>\n",
       "    </tr>\n",
       "    <tr>\n",
       "      <th>Date</th>\n",
       "      <th></th>\n",
       "      <th></th>\n",
       "      <th></th>\n",
       "      <th></th>\n",
       "      <th></th>\n",
       "      <th></th>\n",
       "      <th></th>\n",
       "      <th></th>\n",
       "      <th></th>\n",
       "      <th></th>\n",
       "      <th></th>\n",
       "      <th></th>\n",
       "    </tr>\n",
       "  </thead>\n",
       "  <tbody>\n",
       "    <tr>\n",
       "      <th>2000-08-23</th>\n",
       "      <td>149.812500</td>\n",
       "      <td>151.281250</td>\n",
       "      <td>149.281250</td>\n",
       "      <td>150.843750</td>\n",
       "      <td>5483200</td>\n",
       "      <td>60.811526</td>\n",
       "      <td>97.062500</td>\n",
       "      <td>5.725</td>\n",
       "      <td>17.379999</td>\n",
       "      <td>32.049999</td>\n",
       "      <td>142.687500</td>\n",
       "      <td>0</td>\n",
       "    </tr>\n",
       "    <tr>\n",
       "      <th>2000-08-24</th>\n",
       "      <td>151.156250</td>\n",
       "      <td>151.500000</td>\n",
       "      <td>150.500000</td>\n",
       "      <td>151.312500</td>\n",
       "      <td>4529000</td>\n",
       "      <td>62.225237</td>\n",
       "      <td>98.562500</td>\n",
       "      <td>5.716</td>\n",
       "      <td>17.040001</td>\n",
       "      <td>31.629999</td>\n",
       "      <td>145.281250</td>\n",
       "      <td>0</td>\n",
       "    </tr>\n",
       "    <tr>\n",
       "      <th>2000-08-25</th>\n",
       "      <td>151.156250</td>\n",
       "      <td>151.625000</td>\n",
       "      <td>150.937500</td>\n",
       "      <td>151.250000</td>\n",
       "      <td>2822200</td>\n",
       "      <td>61.904574</td>\n",
       "      <td>98.031250</td>\n",
       "      <td>5.721</td>\n",
       "      <td>16.530001</td>\n",
       "      <td>32.049999</td>\n",
       "      <td>144.250000</td>\n",
       "      <td>0</td>\n",
       "    </tr>\n",
       "    <tr>\n",
       "      <th>2000-08-28</th>\n",
       "      <td>151.250000</td>\n",
       "      <td>152.906250</td>\n",
       "      <td>151.250000</td>\n",
       "      <td>151.765625</td>\n",
       "      <td>5518700</td>\n",
       "      <td>63.572401</td>\n",
       "      <td>98.500000</td>\n",
       "      <td>5.766</td>\n",
       "      <td>16.540001</td>\n",
       "      <td>32.869999</td>\n",
       "      <td>142.406250</td>\n",
       "      <td>0</td>\n",
       "    </tr>\n",
       "    <tr>\n",
       "      <th>2000-08-29</th>\n",
       "      <td>151.437500</td>\n",
       "      <td>151.875000</td>\n",
       "      <td>150.906250</td>\n",
       "      <td>151.796875</td>\n",
       "      <td>3561900</td>\n",
       "      <td>63.676195</td>\n",
       "      <td>99.000000</td>\n",
       "      <td>5.808</td>\n",
       "      <td>16.889999</td>\n",
       "      <td>32.720001</td>\n",
       "      <td>143.156250</td>\n",
       "      <td>0</td>\n",
       "    </tr>\n",
       "    <tr>\n",
       "      <th>...</th>\n",
       "      <td>...</td>\n",
       "      <td>...</td>\n",
       "      <td>...</td>\n",
       "      <td>...</td>\n",
       "      <td>...</td>\n",
       "      <td>...</td>\n",
       "      <td>...</td>\n",
       "      <td>...</td>\n",
       "      <td>...</td>\n",
       "      <td>...</td>\n",
       "      <td>...</td>\n",
       "      <td>...</td>\n",
       "    </tr>\n",
       "    <tr>\n",
       "      <th>2023-03-28</th>\n",
       "      <td>395.769989</td>\n",
       "      <td>396.489990</td>\n",
       "      <td>393.690002</td>\n",
       "      <td>395.600006</td>\n",
       "      <td>62871700</td>\n",
       "      <td>49.308792</td>\n",
       "      <td>307.119995</td>\n",
       "      <td>3.564</td>\n",
       "      <td>19.969999</td>\n",
       "      <td>73.199997</td>\n",
       "      <td>404.359985</td>\n",
       "      <td>1</td>\n",
       "    </tr>\n",
       "    <tr>\n",
       "      <th>2023-03-29</th>\n",
       "      <td>399.929993</td>\n",
       "      <td>401.600006</td>\n",
       "      <td>398.679993</td>\n",
       "      <td>401.350006</td>\n",
       "      <td>77497900</td>\n",
       "      <td>55.088303</td>\n",
       "      <td>312.720001</td>\n",
       "      <td>3.566</td>\n",
       "      <td>19.120001</td>\n",
       "      <td>72.970001</td>\n",
       "      <td>412.410004</td>\n",
       "      <td>1</td>\n",
       "    </tr>\n",
       "    <tr>\n",
       "      <th>2023-03-30</th>\n",
       "      <td>404.089996</td>\n",
       "      <td>404.350006</td>\n",
       "      <td>401.760010</td>\n",
       "      <td>403.700012</td>\n",
       "      <td>69840000</td>\n",
       "      <td>57.234351</td>\n",
       "      <td>315.679993</td>\n",
       "      <td>3.551</td>\n",
       "      <td>19.020000</td>\n",
       "      <td>74.370003</td>\n",
       "      <td>415.929993</td>\n",
       "      <td>1</td>\n",
       "    </tr>\n",
       "    <tr>\n",
       "      <th>2023-03-31</th>\n",
       "      <td>404.660004</td>\n",
       "      <td>409.700012</td>\n",
       "      <td>404.549988</td>\n",
       "      <td>409.390015</td>\n",
       "      <td>112062600</td>\n",
       "      <td>61.972472</td>\n",
       "      <td>320.929993</td>\n",
       "      <td>3.494</td>\n",
       "      <td>18.700001</td>\n",
       "      <td>75.669998</td>\n",
       "      <td>415.510010</td>\n",
       "      <td>1</td>\n",
       "    </tr>\n",
       "    <tr>\n",
       "      <th>2023-04-03</th>\n",
       "      <td>408.850006</td>\n",
       "      <td>411.369995</td>\n",
       "      <td>408.440002</td>\n",
       "      <td>410.950012</td>\n",
       "      <td>67391100</td>\n",
       "      <td>63.177025</td>\n",
       "      <td>320.149994</td>\n",
       "      <td>3.430</td>\n",
       "      <td>18.549999</td>\n",
       "      <td>80.419998</td>\n",
       "      <td>410.839996</td>\n",
       "      <td>0</td>\n",
       "    </tr>\n",
       "  </tbody>\n",
       "</table>\n",
       "<p>5668 rows × 12 columns</p>\n",
       "</div>"
      ],
      "text/plain": [
       "              SPY_Open    SPY_High     SPY_Low   SPY_Close  SPY_Volume   \n",
       "Date                                                                     \n",
       "2000-08-23  149.812500  151.281250  149.281250  150.843750     5483200  \\\n",
       "2000-08-24  151.156250  151.500000  150.500000  151.312500     4529000   \n",
       "2000-08-25  151.156250  151.625000  150.937500  151.250000     2822200   \n",
       "2000-08-28  151.250000  152.906250  151.250000  151.765625     5518700   \n",
       "2000-08-29  151.437500  151.875000  150.906250  151.796875     3561900   \n",
       "...                ...         ...         ...         ...         ...   \n",
       "2023-03-28  395.769989  396.489990  393.690002  395.600006    62871700   \n",
       "2023-03-29  399.929993  401.600006  398.679993  401.350006    77497900   \n",
       "2023-03-30  404.089996  404.350006  401.760010  403.700012    69840000   \n",
       "2023-03-31  404.660004  409.700012  404.549988  409.390015   112062600   \n",
       "2023-04-03  408.850006  411.369995  408.440002  410.950012    67391100   \n",
       "\n",
       "            SPY_Close_RSI   QQQ_Close  ^TNX_Close  ^VIX_Close  CL=F_Close   \n",
       "Date                                                                        \n",
       "2000-08-23      60.811526   97.062500       5.725   17.379999   32.049999  \\\n",
       "2000-08-24      62.225237   98.562500       5.716   17.040001   31.629999   \n",
       "2000-08-25      61.904574   98.031250       5.721   16.530001   32.049999   \n",
       "2000-08-28      63.572401   98.500000       5.766   16.540001   32.869999   \n",
       "2000-08-29      63.676195   99.000000       5.808   16.889999   32.720001   \n",
       "...                   ...         ...         ...         ...         ...   \n",
       "2023-03-28      49.308792  307.119995       3.564   19.969999   73.199997   \n",
       "2023-03-29      55.088303  312.720001       3.566   19.120001   72.970001   \n",
       "2023-03-30      57.234351  315.679993       3.551   19.020000   74.370003   \n",
       "2023-03-31      61.972472  320.929993       3.494   18.700001   75.669998   \n",
       "2023-04-03      63.177025  320.149994       3.430   18.549999   80.419998   \n",
       "\n",
       "            SPY_Close_Future  Target  \n",
       "Date                                  \n",
       "2000-08-23        142.687500       0  \n",
       "2000-08-24        145.281250       0  \n",
       "2000-08-25        144.250000       0  \n",
       "2000-08-28        142.406250       0  \n",
       "2000-08-29        143.156250       0  \n",
       "...                      ...     ...  \n",
       "2023-03-28        404.359985       1  \n",
       "2023-03-29        412.410004       1  \n",
       "2023-03-30        415.929993       1  \n",
       "2023-03-31        415.510010       1  \n",
       "2023-04-03        410.839996       0  \n",
       "\n",
       "[5668 rows x 12 columns]"
      ]
     },
     "execution_count": 11,
     "metadata": {},
     "output_type": "execute_result"
    }
   ],
   "source": [
    "df"
   ]
  },
  {
   "cell_type": "code",
   "execution_count": 12,
   "metadata": {},
   "outputs": [
    {
     "name": "stdout",
     "output_type": "stream",
     "text": [
      "NON-BALANCED DATA:\n",
      "TRAIN: 4535 (80.01058574453069%), NON-TRAIN: 1133 (19.989414255469303%)\n",
      "VALIDATION: 850 (14.996471418489769%), TEST: 283 (4.992942836979535%)\n"
     ]
    }
   ],
   "source": [
    "TOTAL_DF_LEN = len(df.index)\n",
    "train_split_index = -1 * int(NON_TRAIN_PCT * TOTAL_DF_LEN)\n",
    "train_df, non_train_df = df[:train_split_index], df[train_split_index:]\n",
    "\n",
    "non_train_split_index = -1 * int((1 - VALIDATION_TRAIN_RATIO) * len(non_train_df.index))\n",
    "validation_df, test_df = (\n",
    "    non_train_df[:non_train_split_index],\n",
    "    non_train_df[non_train_split_index:],\n",
    ")\n",
    "\n",
    "print(\"NON-BALANCED DATA:\")\n",
    "print(\n",
    "    f\"TRAIN: {len(train_df)} ({len(train_df) / TOTAL_DF_LEN * 100}%), NON-TRAIN: {len(non_train_df)} ({len(non_train_df) / TOTAL_DF_LEN * 100}%)\"\n",
    ")\n",
    "print(\n",
    "    f\"VALIDATION: {len(validation_df)} ({len(validation_df) / TOTAL_DF_LEN * 100}%), TEST: {len(test_df)} ({len(test_df) / TOTAL_DF_LEN * 100}%)\"\n",
    ")"
   ]
  },
  {
   "attachments": {},
   "cell_type": "markdown",
   "metadata": {},
   "source": [
    "### Preprocess the training and non-training data\n"
   ]
  },
  {
   "cell_type": "code",
   "execution_count": 13,
   "metadata": {},
   "outputs": [],
   "source": [
    "def preprocess_df(df, balance=True):\n",
    "    TICKER = df.columns[0].split(\"_\")[0]\n",
    "    CLOSE_NAME = TICKER + \"_Close\"\n",
    "    df = df.drop(columns=[f\"{CLOSE_NAME}_Future\"])\n",
    "\n",
    "    # Scale the data\n",
    "    for col in df.columns:\n",
    "        if col != \"Target\":\n",
    "            df[col] = df[col].pct_change()\n",
    "            df.replace([np.inf, -np.inf], np.nan, inplace=True)\n",
    "            df.dropna(inplace=True)\n",
    "            df[col] = preprocessing.scale(df[col].values)\n",
    "\n",
    "    df.dropna(inplace=True)\n",
    "\n",
    "    # Create the sequential data\n",
    "    sequential_data = []\n",
    "    data_queue = deque(maxlen=SEQUENCE_LEN)\n",
    "\n",
    "    for datapoint in df.values:\n",
    "        # The last column in the df will be Target. Don't include this in the list of independent features\n",
    "        data_queue.append(datapoint[:-1])\n",
    "        if len(data_queue) == SEQUENCE_LEN:\n",
    "            sequential_data.append([np.array(data_queue), datapoint[-1]])\n",
    "\n",
    "    random.shuffle(sequential_data)\n",
    "\n",
    "    if balance:\n",
    "        # Balance the dataset\n",
    "        buys = []\n",
    "        sells = []\n",
    "\n",
    "        for seq, target in sequential_data:\n",
    "            if target:\n",
    "                buys.append([seq, target])\n",
    "            else:\n",
    "                sells.append([seq, target])\n",
    "\n",
    "        minimum = min(len(buys), len(sells))\n",
    "\n",
    "        random.shuffle(buys)\n",
    "        random.shuffle(sells)\n",
    "\n",
    "        buys = buys[:minimum]\n",
    "        sells = sells[:minimum]\n",
    "\n",
    "        sequential_data = buys + sells\n",
    "        random.shuffle(sequential_data)\n",
    "\n",
    "    X = []\n",
    "    y = []\n",
    "\n",
    "    for seq, target in sequential_data:\n",
    "        X.append(seq)\n",
    "        y.append(target)\n",
    "\n",
    "    return np.array(X), np.array(y)"
   ]
  },
  {
   "cell_type": "code",
   "execution_count": 14,
   "metadata": {},
   "outputs": [
    {
     "name": "stdout",
     "output_type": "stream",
     "text": [
      "\n",
      "BALANCED DATA:\n",
      "Train: 3374\n",
      "Validation: 428\n",
      "Test: 198\n",
      "\n"
     ]
    }
   ],
   "source": [
    "X_train, y_train = preprocess_df(train_df)\n",
    "X_validation, y_validation = preprocess_df(validation_df)\n",
    "X_test, y_test = preprocess_df(test_df)\n",
    "\n",
    "print(\n",
    "    f\"\"\"\n",
    "BALANCED DATA:\n",
    "Train: {len(X_train)}\n",
    "Validation: {len(X_validation)}\n",
    "Test: {len(X_test)}\n",
    "\"\"\"\n",
    ")"
   ]
  },
  {
   "attachments": {},
   "cell_type": "markdown",
   "metadata": {},
   "source": [
    "## Training the model\n"
   ]
  },
  {
   "cell_type": "code",
   "execution_count": 15,
   "metadata": {},
   "outputs": [],
   "source": [
    "EPOCHS = 10\n",
    "BATCH_SIZE = 32"
   ]
  },
  {
   "cell_type": "code",
   "execution_count": 20,
   "metadata": {},
   "outputs": [
    {
     "name": "stdout",
     "output_type": "stream",
     "text": [
      "Epoch 1/10\n",
      "106/106 [==============================] - 5s 23ms/step - loss: 0.7139 - accuracy: 0.5104 - val_loss: 0.6942 - val_accuracy: 0.4720\n",
      "Epoch 2/10\n",
      "106/106 [==============================] - 2s 19ms/step - loss: 0.7052 - accuracy: 0.5122 - val_loss: 0.6949 - val_accuracy: 0.4883\n",
      "Epoch 3/10\n",
      "106/106 [==============================] - 2s 19ms/step - loss: 0.7011 - accuracy: 0.5006 - val_loss: 0.6953 - val_accuracy: 0.4883\n",
      "Epoch 4/10\n",
      "106/106 [==============================] - 2s 20ms/step - loss: 0.6915 - accuracy: 0.5261 - val_loss: 0.6950 - val_accuracy: 0.5023\n",
      "Epoch 5/10\n",
      "106/106 [==============================] - 2s 19ms/step - loss: 0.6929 - accuracy: 0.5314 - val_loss: 0.6940 - val_accuracy: 0.5047\n",
      "Epoch 6/10\n",
      "106/106 [==============================] - 2s 19ms/step - loss: 0.6959 - accuracy: 0.5110 - val_loss: 0.6937 - val_accuracy: 0.5047\n",
      "Epoch 7/10\n",
      "106/106 [==============================] - 2s 19ms/step - loss: 0.6933 - accuracy: 0.5282 - val_loss: 0.6934 - val_accuracy: 0.5070\n",
      "Epoch 8/10\n",
      "106/106 [==============================] - 2s 21ms/step - loss: 0.6940 - accuracy: 0.5252 - val_loss: 0.6932 - val_accuracy: 0.5164\n",
      "Epoch 9/10\n",
      "106/106 [==============================] - 2s 21ms/step - loss: 0.6927 - accuracy: 0.5255 - val_loss: 0.6931 - val_accuracy: 0.5187\n",
      "Epoch 10/10\n",
      "106/106 [==============================] - 2s 20ms/step - loss: 0.6935 - accuracy: 0.5299 - val_loss: 0.6932 - val_accuracy: 0.5210\n"
     ]
    }
   ],
   "source": [
    "model = Sequential(\n",
    "    [\n",
    "        LSTM(20),\n",
    "        Dropout(0.3),\n",
    "        BatchNormalization(),\n",
    "        Dense(16, activation=\"gelu\"),\n",
    "        Dropout(0.3),\n",
    "        Dense(16, activation=\"gelu\"),\n",
    "        Dropout(0.3),\n",
    "        Dense(2, activation=\"softmax\"),\n",
    "    ]\n",
    ")\n",
    "lr_schedule = ExponentialDecay(\n",
    "    initial_learning_rate=1e-3,\n",
    "    decay_steps=np.ceil(len(X_train) / BATCH_SIZE),\n",
    "    decay_rate=0.7,\n",
    ")\n",
    "opt = Adam(learning_rate=lr_schedule)\n",
    "model.compile(\n",
    "    optimizer=opt, loss=\"sparse_categorical_crossentropy\", metrics=[\"accuracy\"]\n",
    ")\n",
    "\n",
    "history = model.fit(\n",
    "    X_train,\n",
    "    y_train,\n",
    "    batch_size=BATCH_SIZE,\n",
    "    epochs=EPOCHS,\n",
    "    validation_data=(X_validation, y_validation),\n",
    ")"
   ]
  },
  {
   "cell_type": "code",
   "execution_count": 28,
   "metadata": {},
   "outputs": [
    {
     "name": "stdout",
     "output_type": "stream",
     "text": [
      "Model: \"sequential_4\"\n",
      "_________________________________________________________________\n",
      " Layer (type)                Output Shape              Param #   \n",
      "=================================================================\n",
      " lstm_4 (LSTM)               (None, 20)                2480      \n",
      "                                                                 \n",
      " dropout_12 (Dropout)        (None, 20)                0         \n",
      "                                                                 \n",
      " batch_normalization_4 (Batc  (None, 20)               80        \n",
      " hNormalization)                                                 \n",
      "                                                                 \n",
      " dense_12 (Dense)            (None, 16)                336       \n",
      "                                                                 \n",
      " dropout_13 (Dropout)        (None, 16)                0         \n",
      "                                                                 \n",
      " dense_13 (Dense)            (None, 16)                272       \n",
      "                                                                 \n",
      " dropout_14 (Dropout)        (None, 16)                0         \n",
      "                                                                 \n",
      " dense_14 (Dense)            (None, 2)                 34        \n",
      "                                                                 \n",
      "=================================================================\n",
      "Total params: 3,202\n",
      "Trainable params: 3,162\n",
      "Non-trainable params: 40\n",
      "_________________________________________________________________\n"
     ]
    }
   ],
   "source": [
    "model.summary()"
   ]
  },
  {
   "attachments": {},
   "cell_type": "markdown",
   "metadata": {},
   "source": [
    "### Saving the model\n"
   ]
  },
  {
   "cell_type": "code",
   "execution_count": 29,
   "metadata": {},
   "outputs": [
    {
     "name": "stderr",
     "output_type": "stream",
     "text": [
      "WARNING:absl:Found untraced functions such as _update_step_xla, lstm_cell_4_layer_call_fn, lstm_cell_4_layer_call_and_return_conditional_losses while saving (showing 3 of 3). These functions will not be directly callable after loading.\n"
     ]
    },
    {
     "name": "stdout",
     "output_type": "stream",
     "text": [
      "INFO:tensorflow:Assets written to: ./models/SPY\\assets\n"
     ]
    },
    {
     "name": "stderr",
     "output_type": "stream",
     "text": [
      "INFO:tensorflow:Assets written to: ./models/SPY\\assets\n"
     ]
    }
   ],
   "source": [
    "model.save(\"./models/SPY\")"
   ]
  },
  {
   "attachments": {},
   "cell_type": "markdown",
   "metadata": {},
   "source": [
    "### Loading in the model\n"
   ]
  },
  {
   "cell_type": "code",
   "execution_count": 15,
   "metadata": {},
   "outputs": [],
   "source": [
    "model = tf.keras.models.load_model(\"./models/SPY\")"
   ]
  },
  {
   "attachments": {},
   "cell_type": "markdown",
   "metadata": {},
   "source": [
    "## Evaluating the model\n"
   ]
  },
  {
   "cell_type": "markdown",
   "metadata": {},
   "source": [
    "### Confusion Matrix\n"
   ]
  },
  {
   "cell_type": "code",
   "execution_count": 16,
   "metadata": {},
   "outputs": [
    {
     "data": {
      "image/png": "[encoded data removed]",
      "text/plain": [
       "<Figure size 640x480 with 2 Axes>"
      ]
     },
     "metadata": {},
     "output_type": "display_data"
    }
   ],
   "source": [
    "logits = model(X_test, training=False)\n",
    "predictions = tf.math.argmax(logits, axis=1, output_type=tf.int64)\n",
    "cf_matrix = confusion_matrix(y_test, predictions)\n",
    "cm_display = ConfusionMatrixDisplay(cf_matrix, display_labels=[\"Lower\", \"Higher\"])\n",
    "cm_display.plot()\n",
    "plt.show()"
   ]
  },
  {
   "cell_type": "markdown",
   "metadata": {},
   "source": [
    "### Precision and Recall"
   ]
  },
  {
   "cell_type": "code",
   "execution_count": 17,
   "metadata": {},
   "outputs": [
    {
     "name": "stdout",
     "output_type": "stream",
     "text": [
      "              precision    recall  f1-score   support\n",
      "\n",
      "       Lower       0.58      0.42      0.49        99\n",
      "      Higher       0.55      0.70      0.61        99\n",
      "\n",
      "    accuracy                           0.56       198\n",
      "   macro avg       0.57      0.56      0.55       198\n",
      "weighted avg       0.57      0.56      0.55       198\n",
      "\n"
     ]
    }
   ],
   "source": [
    "logits = model(X_test, training=False)\n",
    "predictions = tf.math.argmax(logits, axis=1, output_type=tf.int64)\n",
    "print(classification_report(y_test, predictions, target_names=[\"Lower\", \"Higher\"]))"
   ]
  },
  {
   "attachments": {},
   "cell_type": "markdown",
   "metadata": {},
   "source": [
    "### Testing on the test dataset\n"
   ]
  },
  {
   "cell_type": "code",
   "execution_count": 18,
   "metadata": {},
   "outputs": [
    {
     "data": {
      "text/plain": [
       "<tf.Tensor: shape=(), dtype=float32, numpy=0.56060606>"
      ]
     },
     "execution_count": 18,
     "metadata": {},
     "output_type": "execute_result"
    }
   ],
   "source": [
    "logits = model(X_test, training=False)\n",
    "predictions = tf.math.argmax(logits, axis=1, output_type=tf.int64)\n",
    "test_accuracy = tf.keras.metrics.Accuracy()\n",
    "test_accuracy(predictions, y_test)"
   ]
  },
  {
   "attachments": {},
   "cell_type": "markdown",
   "metadata": {},
   "source": [
    "### Testing on the entire dataset\n"
   ]
  },
  {
   "cell_type": "code",
   "execution_count": 19,
   "metadata": {},
   "outputs": [
    {
     "data": {
      "text/plain": [
       "<tf.Tensor: shape=(), dtype=float32, numpy=0.5433637>"
      ]
     },
     "execution_count": 19,
     "metadata": {},
     "output_type": "execute_result"
    }
   ],
   "source": [
    "X, y = preprocess_df(df)\n",
    "\n",
    "logits = model(X, training=False)\n",
    "predictions = tf.math.argmax(logits, axis=1, output_type=tf.int64)\n",
    "test_accuracy = tf.keras.metrics.Accuracy()\n",
    "test_accuracy(predictions, y)"
   ]
  },
  {
   "attachments": {},
   "cell_type": "markdown",
   "metadata": {},
   "source": [
    "### Testing on various stock tickers (within the S&P500)\n"
   ]
  },
  {
   "cell_type": "code",
   "execution_count": 20,
   "metadata": {},
   "outputs": [],
   "source": [
    "def test_ticker(TICKER):\n",
    "    df = yf.download(TICKER, progress=False)\n",
    "    df.drop(columns=[\"Adj Close\"], inplace=True)\n",
    "    df.rename(columns={col: f\"{TICKER}_{col}\" for col in df.columns}, inplace=True)\n",
    "\n",
    "    df[f\"{TICKER}_Close_RSI\"] = RSIIndicator(df[f\"{TICKER}_Close\"], window=14).rsi()\n",
    "    df.dropna(inplace=True)\n",
    "\n",
    "    for ticker in INDICATOR_TICKERS:\n",
    "        ticker_data = yf.download(ticker, progress=False)\n",
    "        relevant_data = ticker_data[RELEVANT_COLS]\n",
    "        relevant_data = relevant_data.rename(\n",
    "            columns={col: f\"{ticker}_{col}\" for col in RELEVANT_COLS}\n",
    "        )\n",
    "        # Only join if the columns aren't already present\n",
    "        if len(set(df.columns).intersection(set(relevant_data.columns))) == 0:\n",
    "            df = df.join(relevant_data)\n",
    "\n",
    "    df.dropna(inplace=True)\n",
    "\n",
    "    df[f\"{TICKER}_Close_Future\"] = df[f\"{TICKER}_Close\"].shift(\n",
    "        -1 * PREDICTION_PERIOD_OFFSET\n",
    "    )\n",
    "    df.dropna(inplace=True)\n",
    "    df[\"Target\"] = list(\n",
    "        map(classify, df[f\"{TICKER}_Close\"], df[f\"{TICKER}_Close_Future\"])\n",
    "    )\n",
    "\n",
    "    X, y = preprocess_df(df, balance=False)\n",
    "\n",
    "    print(\"Starting inference\")\n",
    "    start = time.time()\n",
    "    logits = model(X, training=False)\n",
    "    print(\"End of inference\")\n",
    "    print(f\"Inference took: {time.time() - start}s\")\n",
    "    predictions = tf.math.argmax(logits, axis=1, output_type=tf.int64)\n",
    "    test_accuracy = tf.keras.metrics.Accuracy()\n",
    "\n",
    "    return test_accuracy(predictions, y)"
   ]
  },
  {
   "cell_type": "code",
   "execution_count": 21,
   "metadata": {},
   "outputs": [
    {
     "name": "stdout",
     "output_type": "stream",
     "text": [
      "Starting inference\n",
      "End of inference\n",
      "Inference took: 0.38651442527770996s\n"
     ]
    },
    {
     "data": {
      "text/plain": [
       "<tf.Tensor: shape=(), dtype=float32, numpy=0.5161063>"
      ]
     },
     "execution_count": 21,
     "metadata": {},
     "output_type": "execute_result"
    }
   ],
   "source": [
    "test_ticker(\"AAPL\")"
   ]
  },
  {
   "cell_type": "code",
   "execution_count": 22,
   "metadata": {},
   "outputs": [
    {
     "name": "stdout",
     "output_type": "stream",
     "text": [
      "Starting inference\n",
      "End of inference\n",
      "Inference took: 0.3657703399658203s\n"
     ]
    },
    {
     "data": {
      "text/plain": [
       "<tf.Tensor: shape=(), dtype=float32, numpy=0.5250836>"
      ]
     },
     "execution_count": 22,
     "metadata": {},
     "output_type": "execute_result"
    }
   ],
   "source": [
    "test_ticker(\"MSFT\")"
   ]
  },
  {
   "cell_type": "code",
   "execution_count": 23,
   "metadata": {},
   "outputs": [
    {
     "name": "stdout",
     "output_type": "stream",
     "text": [
      "Starting inference\n",
      "End of inference\n",
      "Inference took: 0.29278111457824707s\n"
     ]
    },
    {
     "data": {
      "text/plain": [
       "<tf.Tensor: shape=(), dtype=float32, numpy=0.5359408>"
      ]
     },
     "execution_count": 23,
     "metadata": {},
     "output_type": "execute_result"
    }
   ],
   "source": [
    "test_ticker(\"V\")"
   ]
  },
  {
   "cell_type": "code",
   "execution_count": 24,
   "metadata": {},
   "outputs": [
    {
     "name": "stdout",
     "output_type": "stream",
     "text": [
      "Starting inference\n",
      "End of inference\n",
      "Inference took: 0.3668246269226074s\n"
     ]
    },
    {
     "data": {
      "text/plain": [
       "<tf.Tensor: shape=(), dtype=float32, numpy=0.5403978>"
      ]
     },
     "execution_count": 24,
     "metadata": {},
     "output_type": "execute_result"
    }
   ],
   "source": [
    "test_ticker(\"HD\")"
   ]
  },
  {
   "cell_type": "code",
   "execution_count": 25,
   "metadata": {},
   "outputs": [
    {
     "name": "stdout",
     "output_type": "stream",
     "text": [
      "Starting inference\n",
      "End of inference\n",
      "Inference took: 0.3689110279083252s\n"
     ]
    },
    {
     "data": {
      "text/plain": [
       "<tf.Tensor: shape=(), dtype=float32, numpy=0.5222672>"
      ]
     },
     "execution_count": 25,
     "metadata": {},
     "output_type": "execute_result"
    }
   ],
   "source": [
    "test_ticker(\"KO\")"
   ]
  },
  {
   "cell_type": "code",
   "execution_count": 26,
   "metadata": {},
   "outputs": [
    {
     "name": "stdout",
     "output_type": "stream",
     "text": [
      "Starting inference\n",
      "End of inference\n",
      "Inference took: 0.3810429573059082s\n"
     ]
    },
    {
     "data": {
      "text/plain": [
       "<tf.Tensor: shape=(), dtype=float32, numpy=0.5259637>"
      ]
     },
     "execution_count": 26,
     "metadata": {},
     "output_type": "execute_result"
    }
   ],
   "source": [
    "test_ticker(\"JPM\")"
   ]
  },
  {
   "attachments": {},
   "cell_type": "markdown",
   "metadata": {},
   "source": [
    "### Testing on various stock tickers (not in the S&P500)\n"
   ]
  },
  {
   "cell_type": "code",
   "execution_count": 27,
   "metadata": {},
   "outputs": [
    {
     "name": "stdout",
     "output_type": "stream",
     "text": [
      "Starting inference\n",
      "End of inference\n",
      "Inference took: 0.37306928634643555s\n"
     ]
    },
    {
     "data": {
      "text/plain": [
       "<tf.Tensor: shape=(), dtype=float32, numpy=0.522877>"
      ]
     },
     "execution_count": 27,
     "metadata": {},
     "output_type": "execute_result"
    }
   ],
   "source": [
    "test_ticker(\"MC.PA\")"
   ]
  },
  {
   "cell_type": "code",
   "execution_count": 28,
   "metadata": {},
   "outputs": [
    {
     "name": "stdout",
     "output_type": "stream",
     "text": [
      "Starting inference\n",
      "End of inference\n",
      "Inference took: 0.3758518695831299s\n"
     ]
    },
    {
     "data": {
      "text/plain": [
       "<tf.Tensor: shape=(), dtype=float32, numpy=0.5433903>"
      ]
     },
     "execution_count": 28,
     "metadata": {},
     "output_type": "execute_result"
    }
   ],
   "source": [
    "test_ticker(\"TTE\")"
   ]
  },
  {
   "cell_type": "code",
   "execution_count": 29,
   "metadata": {},
   "outputs": [
    {
     "name": "stdout",
     "output_type": "stream",
     "text": [
      "Starting inference\n",
      "End of inference\n",
      "Inference took: 0.3683333396911621s\n"
     ]
    },
    {
     "data": {
      "text/plain": [
       "<tf.Tensor: shape=(), dtype=float32, numpy=0.5294843>"
      ]
     },
     "execution_count": 29,
     "metadata": {},
     "output_type": "execute_result"
    }
   ],
   "source": [
    "test_ticker(\"LIN\")"
   ]
  },
  {
   "cell_type": "code",
   "execution_count": null,
   "metadata": {},
   "outputs": [],
   "source": []
  },
  {
   "cell_type": "code",
   "execution_count": null,
   "metadata": {},
   "outputs": [],
   "source": []
  }
 ],
 "metadata": {
  "kernelspec": {
   "display_name": ".venv",
   "language": "python",
   "name": "python3"
  },
  "language_info": {
   "codemirror_mode": {
    "name": "ipython",
    "version": 3
   },
   "file_extension": ".py",
   "mimetype": "text/x-python",
   "name": "python",
   "nbconvert_exporter": "python",
   "pygments_lexer": "ipython3",
   "version": "3.11.4"
  },
  "orig_nbformat": 4
 },
 "nbformat": 4,
 "nbformat_minor": 2
}
