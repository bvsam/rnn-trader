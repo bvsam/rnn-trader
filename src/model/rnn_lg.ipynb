{
 "cells": [
  {
   "cell_type": "code",
   "execution_count": 1,
   "metadata": {},
   "outputs": [],
   "source": [
    "import yfinance as yf\n",
    "import numpy as np\n",
    "from sklearn import preprocessing\n",
    "from sklearn.metrics import confusion_matrix, ConfusionMatrixDisplay, classification_report\n",
    "from ta.momentum import RSIIndicator\n",
    "from collections import deque\n",
    "import random\n",
    "import tensorflow as tf\n",
    "from tensorflow.keras.models import Sequential\n",
    "from tensorflow.keras.layers import (\n",
    "    Dense,\n",
    "    Dropout,\n",
    "    LSTM,\n",
    "    BatchNormalization,\n",
    "    Bidirectional,\n",
    ")\n",
    "from tensorflow.keras.optimizers import Adam\n",
    "import datetime\n",
    "from matplotlib import pyplot as plt\n",
    "import time"
   ]
  },
  {
   "attachments": {},
   "cell_type": "markdown",
   "metadata": {},
   "source": [
    "## Gathering the data\n"
   ]
  },
  {
   "attachments": {},
   "cell_type": "markdown",
   "metadata": {},
   "source": [
    "### Downloading the initial data\n"
   ]
  },
  {
   "cell_type": "code",
   "execution_count": 2,
   "metadata": {},
   "outputs": [],
   "source": [
    "# The main ticker to predict\n",
    "TICKER_TO_PREDICT = \"SPY\"\n",
    "# Supplementary tickers to help prediction\n",
    "INDICATOR_TICKERS = [\"QQQ\", \"^TNX\", \"^VIX\", \"CL=F\"]\n",
    "\n",
    "# The last day which the training data should include\n",
    "TRAIN_DATA_END_DATE = datetime.datetime.now()\n",
    "\n",
    "# Length of sequences to feed the RNN (the number of days of context the model\n",
    "# can predict from)\n",
    "SEQUENCE_LEN = 250\n",
    "# Number of periods (days if data is daily) in the future to predict\n",
    "PREDICTION_PERIOD_OFFSET = 20"
   ]
  },
  {
   "cell_type": "code",
   "execution_count": 3,
   "metadata": {},
   "outputs": [],
   "source": [
    "# The percentage of data to keep for the validation and test set\n",
    "NON_TRAIN_PCT = 0.3\n",
    "# The percentage of non-training data to use for the validation set (the rest is used for the test set)\n",
    "VALIDATION_TRAIN_RATIO = 0.66"
   ]
  },
  {
   "cell_type": "code",
   "execution_count": 4,
   "metadata": {},
   "outputs": [
    {
     "data": {
      "text/html": [
       "<div>\n",
       "<style scoped>\n",
       "    .dataframe tbody tr th:only-of-type {\n",
       "        vertical-align: middle;\n",
       "    }\n",
       "\n",
       "    .dataframe tbody tr th {\n",
       "        vertical-align: top;\n",
       "    }\n",
       "\n",
       "    .dataframe thead th {\n",
       "        text-align: right;\n",
       "    }\n",
       "</style>\n",
       "<table border=\"1\" class=\"dataframe\">\n",
       "  <thead>\n",
       "    <tr style=\"text-align: right;\">\n",
       "      <th></th>\n",
       "      <th>SPY_Open</th>\n",
       "      <th>SPY_High</th>\n",
       "      <th>SPY_Low</th>\n",
       "      <th>SPY_Close</th>\n",
       "      <th>SPY_Volume</th>\n",
       "    </tr>\n",
       "    <tr>\n",
       "      <th>Date</th>\n",
       "      <th></th>\n",
       "      <th></th>\n",
       "      <th></th>\n",
       "      <th></th>\n",
       "      <th></th>\n",
       "    </tr>\n",
       "  </thead>\n",
       "  <tbody>\n",
       "    <tr>\n",
       "      <th>1993-01-29</th>\n",
       "      <td>43.968750</td>\n",
       "      <td>43.968750</td>\n",
       "      <td>43.750000</td>\n",
       "      <td>43.937500</td>\n",
       "      <td>1003200</td>\n",
       "    </tr>\n",
       "    <tr>\n",
       "      <th>1993-02-01</th>\n",
       "      <td>43.968750</td>\n",
       "      <td>44.250000</td>\n",
       "      <td>43.968750</td>\n",
       "      <td>44.250000</td>\n",
       "      <td>480500</td>\n",
       "    </tr>\n",
       "    <tr>\n",
       "      <th>1993-02-02</th>\n",
       "      <td>44.218750</td>\n",
       "      <td>44.375000</td>\n",
       "      <td>44.125000</td>\n",
       "      <td>44.343750</td>\n",
       "      <td>201300</td>\n",
       "    </tr>\n",
       "    <tr>\n",
       "      <th>1993-02-03</th>\n",
       "      <td>44.406250</td>\n",
       "      <td>44.843750</td>\n",
       "      <td>44.375000</td>\n",
       "      <td>44.812500</td>\n",
       "      <td>529400</td>\n",
       "    </tr>\n",
       "    <tr>\n",
       "      <th>1993-02-04</th>\n",
       "      <td>44.968750</td>\n",
       "      <td>45.093750</td>\n",
       "      <td>44.468750</td>\n",
       "      <td>45.000000</td>\n",
       "      <td>531500</td>\n",
       "    </tr>\n",
       "    <tr>\n",
       "      <th>...</th>\n",
       "      <td>...</td>\n",
       "      <td>...</td>\n",
       "      <td>...</td>\n",
       "      <td>...</td>\n",
       "      <td>...</td>\n",
       "    </tr>\n",
       "    <tr>\n",
       "      <th>2023-08-23</th>\n",
       "      <td>439.250000</td>\n",
       "      <td>443.670013</td>\n",
       "      <td>439.100006</td>\n",
       "      <td>443.029999</td>\n",
       "      <td>68441000</td>\n",
       "    </tr>\n",
       "    <tr>\n",
       "      <th>2023-08-24</th>\n",
       "      <td>444.690002</td>\n",
       "      <td>445.220001</td>\n",
       "      <td>436.859985</td>\n",
       "      <td>436.890015</td>\n",
       "      <td>88517300</td>\n",
       "    </tr>\n",
       "    <tr>\n",
       "      <th>2023-08-25</th>\n",
       "      <td>438.679993</td>\n",
       "      <td>441.299988</td>\n",
       "      <td>435.000000</td>\n",
       "      <td>439.970001</td>\n",
       "      <td>102297000</td>\n",
       "    </tr>\n",
       "    <tr>\n",
       "      <th>2023-08-28</th>\n",
       "      <td>442.239990</td>\n",
       "      <td>443.399994</td>\n",
       "      <td>439.970001</td>\n",
       "      <td>442.760010</td>\n",
       "      <td>61595400</td>\n",
       "    </tr>\n",
       "    <tr>\n",
       "      <th>2023-08-29</th>\n",
       "      <td>442.649994</td>\n",
       "      <td>449.450012</td>\n",
       "      <td>442.459991</td>\n",
       "      <td>449.160004</td>\n",
       "      <td>82982800</td>\n",
       "    </tr>\n",
       "  </tbody>\n",
       "</table>\n",
       "<p>7701 rows × 5 columns</p>\n",
       "</div>"
      ],
      "text/plain": [
       "              SPY_Open    SPY_High     SPY_Low   SPY_Close  SPY_Volume\n",
       "Date                                                                  \n",
       "1993-01-29   43.968750   43.968750   43.750000   43.937500     1003200\n",
       "1993-02-01   43.968750   44.250000   43.968750   44.250000      480500\n",
       "1993-02-02   44.218750   44.375000   44.125000   44.343750      201300\n",
       "1993-02-03   44.406250   44.843750   44.375000   44.812500      529400\n",
       "1993-02-04   44.968750   45.093750   44.468750   45.000000      531500\n",
       "...                ...         ...         ...         ...         ...\n",
       "2023-08-23  439.250000  443.670013  439.100006  443.029999    68441000\n",
       "2023-08-24  444.690002  445.220001  436.859985  436.890015    88517300\n",
       "2023-08-25  438.679993  441.299988  435.000000  439.970001   102297000\n",
       "2023-08-28  442.239990  443.399994  439.970001  442.760010    61595400\n",
       "2023-08-29  442.649994  449.450012  442.459991  449.160004    82982800\n",
       "\n",
       "[7701 rows x 5 columns]"
      ]
     },
     "execution_count": 4,
     "metadata": {},
     "output_type": "execute_result"
    }
   ],
   "source": [
    "df = yf.download(\n",
    "    TICKER_TO_PREDICT,\n",
    "    end=(TRAIN_DATA_END_DATE + datetime.timedelta(1)).strftime(\"%Y-%m-%d\"),\n",
    "    progress=False,\n",
    ")\n",
    "df.drop(columns=[\"Adj Close\"], inplace=True)\n",
    "df.rename(\n",
    "    columns={col: f\"{TICKER_TO_PREDICT}_{col}\" for col in df.columns}, inplace=True\n",
    ")\n",
    "CLOSE_NAME = f\"{TICKER_TO_PREDICT}_Close\"\n",
    "\n",
    "df"
   ]
  },
  {
   "attachments": {},
   "cell_type": "markdown",
   "metadata": {},
   "source": [
    "### Adding technical indicators\n"
   ]
  },
  {
   "cell_type": "code",
   "execution_count": 5,
   "metadata": {},
   "outputs": [
    {
     "data": {
      "text/html": [
       "<div>\n",
       "<style scoped>\n",
       "    .dataframe tbody tr th:only-of-type {\n",
       "        vertical-align: middle;\n",
       "    }\n",
       "\n",
       "    .dataframe tbody tr th {\n",
       "        vertical-align: top;\n",
       "    }\n",
       "\n",
       "    .dataframe thead th {\n",
       "        text-align: right;\n",
       "    }\n",
       "</style>\n",
       "<table border=\"1\" class=\"dataframe\">\n",
       "  <thead>\n",
       "    <tr style=\"text-align: right;\">\n",
       "      <th></th>\n",
       "      <th>SPY_Open</th>\n",
       "      <th>SPY_High</th>\n",
       "      <th>SPY_Low</th>\n",
       "      <th>SPY_Close</th>\n",
       "      <th>SPY_Volume</th>\n",
       "      <th>SPY_Close_RSI</th>\n",
       "    </tr>\n",
       "    <tr>\n",
       "      <th>Date</th>\n",
       "      <th></th>\n",
       "      <th></th>\n",
       "      <th></th>\n",
       "      <th></th>\n",
       "      <th></th>\n",
       "      <th></th>\n",
       "    </tr>\n",
       "  </thead>\n",
       "  <tbody>\n",
       "    <tr>\n",
       "      <th>1993-02-18</th>\n",
       "      <td>43.937500</td>\n",
       "      <td>43.937500</td>\n",
       "      <td>42.812500</td>\n",
       "      <td>43.406250</td>\n",
       "      <td>378100</td>\n",
       "      <td>31.343145</td>\n",
       "    </tr>\n",
       "    <tr>\n",
       "      <th>1993-02-19</th>\n",
       "      <td>43.406250</td>\n",
       "      <td>43.562500</td>\n",
       "      <td>43.343750</td>\n",
       "      <td>43.562500</td>\n",
       "      <td>34900</td>\n",
       "      <td>36.183605</td>\n",
       "    </tr>\n",
       "    <tr>\n",
       "      <th>1993-02-22</th>\n",
       "      <td>43.687500</td>\n",
       "      <td>43.781250</td>\n",
       "      <td>43.562500</td>\n",
       "      <td>43.718750</td>\n",
       "      <td>513600</td>\n",
       "      <td>40.686975</td>\n",
       "    </tr>\n",
       "    <tr>\n",
       "      <th>1993-02-23</th>\n",
       "      <td>43.843750</td>\n",
       "      <td>43.875000</td>\n",
       "      <td>43.468750</td>\n",
       "      <td>43.687500</td>\n",
       "      <td>373700</td>\n",
       "      <td>40.077825</td>\n",
       "    </tr>\n",
       "    <tr>\n",
       "      <th>1993-02-24</th>\n",
       "      <td>43.718750</td>\n",
       "      <td>44.250000</td>\n",
       "      <td>43.718750</td>\n",
       "      <td>44.250000</td>\n",
       "      <td>26300</td>\n",
       "      <td>53.556588</td>\n",
       "    </tr>\n",
       "    <tr>\n",
       "      <th>...</th>\n",
       "      <td>...</td>\n",
       "      <td>...</td>\n",
       "      <td>...</td>\n",
       "      <td>...</td>\n",
       "      <td>...</td>\n",
       "      <td>...</td>\n",
       "    </tr>\n",
       "    <tr>\n",
       "      <th>2023-08-23</th>\n",
       "      <td>439.250000</td>\n",
       "      <td>443.670013</td>\n",
       "      <td>439.100006</td>\n",
       "      <td>443.029999</td>\n",
       "      <td>68441000</td>\n",
       "      <td>47.987997</td>\n",
       "    </tr>\n",
       "    <tr>\n",
       "      <th>2023-08-24</th>\n",
       "      <td>444.690002</td>\n",
       "      <td>445.220001</td>\n",
       "      <td>436.859985</td>\n",
       "      <td>436.890015</td>\n",
       "      <td>88517300</td>\n",
       "      <td>40.225352</td>\n",
       "    </tr>\n",
       "    <tr>\n",
       "      <th>2023-08-25</th>\n",
       "      <td>438.679993</td>\n",
       "      <td>441.299988</td>\n",
       "      <td>435.000000</td>\n",
       "      <td>439.970001</td>\n",
       "      <td>102297000</td>\n",
       "      <td>45.029060</td>\n",
       "    </tr>\n",
       "    <tr>\n",
       "      <th>2023-08-28</th>\n",
       "      <td>442.239990</td>\n",
       "      <td>443.399994</td>\n",
       "      <td>439.970001</td>\n",
       "      <td>442.760010</td>\n",
       "      <td>61595400</td>\n",
       "      <td>49.025334</td>\n",
       "    </tr>\n",
       "    <tr>\n",
       "      <th>2023-08-29</th>\n",
       "      <td>442.649994</td>\n",
       "      <td>449.450012</td>\n",
       "      <td>442.459991</td>\n",
       "      <td>449.160004</td>\n",
       "      <td>82982800</td>\n",
       "      <td>56.786095</td>\n",
       "    </tr>\n",
       "  </tbody>\n",
       "</table>\n",
       "<p>7688 rows × 6 columns</p>\n",
       "</div>"
      ],
      "text/plain": [
       "              SPY_Open    SPY_High     SPY_Low   SPY_Close  SPY_Volume   \n",
       "Date                                                                     \n",
       "1993-02-18   43.937500   43.937500   42.812500   43.406250      378100  \\\n",
       "1993-02-19   43.406250   43.562500   43.343750   43.562500       34900   \n",
       "1993-02-22   43.687500   43.781250   43.562500   43.718750      513600   \n",
       "1993-02-23   43.843750   43.875000   43.468750   43.687500      373700   \n",
       "1993-02-24   43.718750   44.250000   43.718750   44.250000       26300   \n",
       "...                ...         ...         ...         ...         ...   \n",
       "2023-08-23  439.250000  443.670013  439.100006  443.029999    68441000   \n",
       "2023-08-24  444.690002  445.220001  436.859985  436.890015    88517300   \n",
       "2023-08-25  438.679993  441.299988  435.000000  439.970001   102297000   \n",
       "2023-08-28  442.239990  443.399994  439.970001  442.760010    61595400   \n",
       "2023-08-29  442.649994  449.450012  442.459991  449.160004    82982800   \n",
       "\n",
       "            SPY_Close_RSI  \n",
       "Date                       \n",
       "1993-02-18      31.343145  \n",
       "1993-02-19      36.183605  \n",
       "1993-02-22      40.686975  \n",
       "1993-02-23      40.077825  \n",
       "1993-02-24      53.556588  \n",
       "...                   ...  \n",
       "2023-08-23      47.987997  \n",
       "2023-08-24      40.225352  \n",
       "2023-08-25      45.029060  \n",
       "2023-08-28      49.025334  \n",
       "2023-08-29      56.786095  \n",
       "\n",
       "[7688 rows x 6 columns]"
      ]
     },
     "execution_count": 5,
     "metadata": {},
     "output_type": "execute_result"
    }
   ],
   "source": [
    "df[f\"{CLOSE_NAME}_RSI\"] = RSIIndicator(df[CLOSE_NAME], window=14).rsi()\n",
    "df.dropna(inplace=True)\n",
    "\n",
    "df"
   ]
  },
  {
   "attachments": {},
   "cell_type": "markdown",
   "metadata": {},
   "source": [
    "### Joining the indicator ticker data\n"
   ]
  },
  {
   "cell_type": "code",
   "execution_count": 6,
   "metadata": {},
   "outputs": [
    {
     "name": "stdout",
     "output_type": "stream",
     "text": [
      "QQQ Index(['Open', 'High', 'Low', 'Close', 'Adj Close', 'Volume'], dtype='object')\n",
      "^TNX Index(['Open', 'High', 'Low', 'Close', 'Adj Close', 'Volume'], dtype='object')\n",
      "^VIX Index(['Open', 'High', 'Low', 'Close', 'Adj Close', 'Volume'], dtype='object')\n",
      "CL=F Index(['Open', 'High', 'Low', 'Close', 'Adj Close', 'Volume'], dtype='object')\n"
     ]
    }
   ],
   "source": [
    "for ticker in INDICATOR_TICKERS:\n",
    "    ticker_data = yf.download(ticker, progress=False)\n",
    "    print(ticker, ticker_data.columns)"
   ]
  },
  {
   "cell_type": "code",
   "execution_count": 7,
   "metadata": {},
   "outputs": [
    {
     "name": "stdout",
     "output_type": "stream",
     "text": [
      "Index(['SPY_Open', 'SPY_High', 'SPY_Low', 'SPY_Close', 'SPY_Volume',\n",
      "       'SPY_Close_RSI', 'QQQ_Close', '^TNX_Close', '^VIX_Close', 'CL=F_Close'],\n",
      "      dtype='object')\n"
     ]
    },
    {
     "data": {
      "text/html": [
       "<div>\n",
       "<style scoped>\n",
       "    .dataframe tbody tr th:only-of-type {\n",
       "        vertical-align: middle;\n",
       "    }\n",
       "\n",
       "    .dataframe tbody tr th {\n",
       "        vertical-align: top;\n",
       "    }\n",
       "\n",
       "    .dataframe thead th {\n",
       "        text-align: right;\n",
       "    }\n",
       "</style>\n",
       "<table border=\"1\" class=\"dataframe\">\n",
       "  <thead>\n",
       "    <tr style=\"text-align: right;\">\n",
       "      <th></th>\n",
       "      <th>SPY_Open</th>\n",
       "      <th>SPY_High</th>\n",
       "      <th>SPY_Low</th>\n",
       "      <th>SPY_Close</th>\n",
       "      <th>SPY_Volume</th>\n",
       "      <th>SPY_Close_RSI</th>\n",
       "      <th>QQQ_Close</th>\n",
       "      <th>^TNX_Close</th>\n",
       "      <th>^VIX_Close</th>\n",
       "      <th>CL=F_Close</th>\n",
       "    </tr>\n",
       "    <tr>\n",
       "      <th>Date</th>\n",
       "      <th></th>\n",
       "      <th></th>\n",
       "      <th></th>\n",
       "      <th></th>\n",
       "      <th></th>\n",
       "      <th></th>\n",
       "      <th></th>\n",
       "      <th></th>\n",
       "      <th></th>\n",
       "      <th></th>\n",
       "    </tr>\n",
       "  </thead>\n",
       "  <tbody>\n",
       "    <tr>\n",
       "      <th>2000-08-23</th>\n",
       "      <td>149.812500</td>\n",
       "      <td>151.281250</td>\n",
       "      <td>149.281250</td>\n",
       "      <td>150.843750</td>\n",
       "      <td>5483200</td>\n",
       "      <td>60.811526</td>\n",
       "      <td>97.062500</td>\n",
       "      <td>5.725</td>\n",
       "      <td>17.379999</td>\n",
       "      <td>32.049999</td>\n",
       "    </tr>\n",
       "    <tr>\n",
       "      <th>2000-08-24</th>\n",
       "      <td>151.156250</td>\n",
       "      <td>151.500000</td>\n",
       "      <td>150.500000</td>\n",
       "      <td>151.312500</td>\n",
       "      <td>4529000</td>\n",
       "      <td>62.225237</td>\n",
       "      <td>98.562500</td>\n",
       "      <td>5.716</td>\n",
       "      <td>17.040001</td>\n",
       "      <td>31.629999</td>\n",
       "    </tr>\n",
       "    <tr>\n",
       "      <th>2000-08-25</th>\n",
       "      <td>151.156250</td>\n",
       "      <td>151.625000</td>\n",
       "      <td>150.937500</td>\n",
       "      <td>151.250000</td>\n",
       "      <td>2822200</td>\n",
       "      <td>61.904574</td>\n",
       "      <td>98.031250</td>\n",
       "      <td>5.721</td>\n",
       "      <td>16.530001</td>\n",
       "      <td>32.049999</td>\n",
       "    </tr>\n",
       "    <tr>\n",
       "      <th>2000-08-28</th>\n",
       "      <td>151.250000</td>\n",
       "      <td>152.906250</td>\n",
       "      <td>151.250000</td>\n",
       "      <td>151.765625</td>\n",
       "      <td>5518700</td>\n",
       "      <td>63.572401</td>\n",
       "      <td>98.500000</td>\n",
       "      <td>5.766</td>\n",
       "      <td>16.540001</td>\n",
       "      <td>32.869999</td>\n",
       "    </tr>\n",
       "    <tr>\n",
       "      <th>2000-08-29</th>\n",
       "      <td>151.437500</td>\n",
       "      <td>151.875000</td>\n",
       "      <td>150.906250</td>\n",
       "      <td>151.796875</td>\n",
       "      <td>3561900</td>\n",
       "      <td>63.676195</td>\n",
       "      <td>99.000000</td>\n",
       "      <td>5.808</td>\n",
       "      <td>16.889999</td>\n",
       "      <td>32.720001</td>\n",
       "    </tr>\n",
       "    <tr>\n",
       "      <th>...</th>\n",
       "      <td>...</td>\n",
       "      <td>...</td>\n",
       "      <td>...</td>\n",
       "      <td>...</td>\n",
       "      <td>...</td>\n",
       "      <td>...</td>\n",
       "      <td>...</td>\n",
       "      <td>...</td>\n",
       "      <td>...</td>\n",
       "      <td>...</td>\n",
       "    </tr>\n",
       "    <tr>\n",
       "      <th>2023-08-23</th>\n",
       "      <td>439.250000</td>\n",
       "      <td>443.670013</td>\n",
       "      <td>439.100006</td>\n",
       "      <td>443.029999</td>\n",
       "      <td>68441000</td>\n",
       "      <td>47.987997</td>\n",
       "      <td>369.109985</td>\n",
       "      <td>4.198</td>\n",
       "      <td>15.980000</td>\n",
       "      <td>78.889999</td>\n",
       "    </tr>\n",
       "    <tr>\n",
       "      <th>2023-08-24</th>\n",
       "      <td>444.690002</td>\n",
       "      <td>445.220001</td>\n",
       "      <td>436.859985</td>\n",
       "      <td>436.890015</td>\n",
       "      <td>88517300</td>\n",
       "      <td>40.225352</td>\n",
       "      <td>361.220001</td>\n",
       "      <td>4.235</td>\n",
       "      <td>17.200001</td>\n",
       "      <td>79.050003</td>\n",
       "    </tr>\n",
       "    <tr>\n",
       "      <th>2023-08-25</th>\n",
       "      <td>438.679993</td>\n",
       "      <td>441.299988</td>\n",
       "      <td>435.000000</td>\n",
       "      <td>439.970001</td>\n",
       "      <td>102297000</td>\n",
       "      <td>45.029060</td>\n",
       "      <td>364.019989</td>\n",
       "      <td>4.239</td>\n",
       "      <td>15.680000</td>\n",
       "      <td>79.830002</td>\n",
       "    </tr>\n",
       "    <tr>\n",
       "      <th>2023-08-28</th>\n",
       "      <td>442.239990</td>\n",
       "      <td>443.399994</td>\n",
       "      <td>439.970001</td>\n",
       "      <td>442.760010</td>\n",
       "      <td>61595400</td>\n",
       "      <td>49.025334</td>\n",
       "      <td>366.760010</td>\n",
       "      <td>4.212</td>\n",
       "      <td>15.080000</td>\n",
       "      <td>80.099998</td>\n",
       "    </tr>\n",
       "    <tr>\n",
       "      <th>2023-08-29</th>\n",
       "      <td>442.649994</td>\n",
       "      <td>449.450012</td>\n",
       "      <td>442.459991</td>\n",
       "      <td>449.160004</td>\n",
       "      <td>82982800</td>\n",
       "      <td>56.786095</td>\n",
       "      <td>374.769989</td>\n",
       "      <td>4.122</td>\n",
       "      <td>14.450000</td>\n",
       "      <td>81.160004</td>\n",
       "    </tr>\n",
       "  </tbody>\n",
       "</table>\n",
       "<p>5770 rows × 10 columns</p>\n",
       "</div>"
      ],
      "text/plain": [
       "              SPY_Open    SPY_High     SPY_Low   SPY_Close  SPY_Volume   \n",
       "Date                                                                     \n",
       "2000-08-23  149.812500  151.281250  149.281250  150.843750     5483200  \\\n",
       "2000-08-24  151.156250  151.500000  150.500000  151.312500     4529000   \n",
       "2000-08-25  151.156250  151.625000  150.937500  151.250000     2822200   \n",
       "2000-08-28  151.250000  152.906250  151.250000  151.765625     5518700   \n",
       "2000-08-29  151.437500  151.875000  150.906250  151.796875     3561900   \n",
       "...                ...         ...         ...         ...         ...   \n",
       "2023-08-23  439.250000  443.670013  439.100006  443.029999    68441000   \n",
       "2023-08-24  444.690002  445.220001  436.859985  436.890015    88517300   \n",
       "2023-08-25  438.679993  441.299988  435.000000  439.970001   102297000   \n",
       "2023-08-28  442.239990  443.399994  439.970001  442.760010    61595400   \n",
       "2023-08-29  442.649994  449.450012  442.459991  449.160004    82982800   \n",
       "\n",
       "            SPY_Close_RSI   QQQ_Close  ^TNX_Close  ^VIX_Close  CL=F_Close  \n",
       "Date                                                                       \n",
       "2000-08-23      60.811526   97.062500       5.725   17.379999   32.049999  \n",
       "2000-08-24      62.225237   98.562500       5.716   17.040001   31.629999  \n",
       "2000-08-25      61.904574   98.031250       5.721   16.530001   32.049999  \n",
       "2000-08-28      63.572401   98.500000       5.766   16.540001   32.869999  \n",
       "2000-08-29      63.676195   99.000000       5.808   16.889999   32.720001  \n",
       "...                   ...         ...         ...         ...         ...  \n",
       "2023-08-23      47.987997  369.109985       4.198   15.980000   78.889999  \n",
       "2023-08-24      40.225352  361.220001       4.235   17.200001   79.050003  \n",
       "2023-08-25      45.029060  364.019989       4.239   15.680000   79.830002  \n",
       "2023-08-28      49.025334  366.760010       4.212   15.080000   80.099998  \n",
       "2023-08-29      56.786095  374.769989       4.122   14.450000   81.160004  \n",
       "\n",
       "[5770 rows x 10 columns]"
      ]
     },
     "execution_count": 7,
     "metadata": {},
     "output_type": "execute_result"
    }
   ],
   "source": [
    "RELEVANT_COLS = [\"Close\"]\n",
    "\n",
    "for ticker in INDICATOR_TICKERS:\n",
    "    ticker_data = yf.download(ticker, progress=False)\n",
    "    relevant_data = ticker_data[RELEVANT_COLS]\n",
    "    relevant_data = relevant_data.rename(\n",
    "        columns={col: f\"{ticker}_{col}\" for col in RELEVANT_COLS}\n",
    "    )\n",
    "    # Only join if the columns aren't already present\n",
    "    if len(set(df.columns).intersection(set(relevant_data.columns))) == 0:\n",
    "        df = df.join(relevant_data)\n",
    "\n",
    "df.dropna(inplace=True)\n",
    "print(df.columns)\n",
    "\n",
    "df"
   ]
  },
  {
   "attachments": {},
   "cell_type": "markdown",
   "metadata": {},
   "source": [
    "## Processing the data\n"
   ]
  },
  {
   "attachments": {},
   "cell_type": "markdown",
   "metadata": {},
   "source": [
    "### Offsetting the data and adding target values\n"
   ]
  },
  {
   "cell_type": "code",
   "execution_count": null,
   "metadata": {},
   "outputs": [],
   "source": []
  },
  {
   "cell_type": "code",
   "execution_count": 8,
   "metadata": {},
   "outputs": [],
   "source": [
    "def classify(current, future):\n",
    "    return int(float(future) > float(current))"
   ]
  },
  {
   "cell_type": "code",
   "execution_count": 9,
   "metadata": {},
   "outputs": [
    {
     "data": {
      "text/html": [
       "<div>\n",
       "<style scoped>\n",
       "    .dataframe tbody tr th:only-of-type {\n",
       "        vertical-align: middle;\n",
       "    }\n",
       "\n",
       "    .dataframe tbody tr th {\n",
       "        vertical-align: top;\n",
       "    }\n",
       "\n",
       "    .dataframe thead th {\n",
       "        text-align: right;\n",
       "    }\n",
       "</style>\n",
       "<table border=\"1\" class=\"dataframe\">\n",
       "  <thead>\n",
       "    <tr style=\"text-align: right;\">\n",
       "      <th></th>\n",
       "      <th>SPY_Close</th>\n",
       "      <th>SPY_Close_Future</th>\n",
       "      <th>Target</th>\n",
       "    </tr>\n",
       "    <tr>\n",
       "      <th>Date</th>\n",
       "      <th></th>\n",
       "      <th></th>\n",
       "      <th></th>\n",
       "    </tr>\n",
       "  </thead>\n",
       "  <tbody>\n",
       "    <tr>\n",
       "      <th>2000-08-23</th>\n",
       "      <td>150.843750</td>\n",
       "      <td>142.687500</td>\n",
       "      <td>0</td>\n",
       "    </tr>\n",
       "    <tr>\n",
       "      <th>2000-08-24</th>\n",
       "      <td>151.312500</td>\n",
       "      <td>145.281250</td>\n",
       "      <td>0</td>\n",
       "    </tr>\n",
       "    <tr>\n",
       "      <th>2000-08-25</th>\n",
       "      <td>151.250000</td>\n",
       "      <td>144.250000</td>\n",
       "      <td>0</td>\n",
       "    </tr>\n",
       "    <tr>\n",
       "      <th>2000-08-28</th>\n",
       "      <td>151.765625</td>\n",
       "      <td>142.406250</td>\n",
       "      <td>0</td>\n",
       "    </tr>\n",
       "    <tr>\n",
       "      <th>2000-08-29</th>\n",
       "      <td>151.796875</td>\n",
       "      <td>143.156250</td>\n",
       "      <td>0</td>\n",
       "    </tr>\n",
       "    <tr>\n",
       "      <th>...</th>\n",
       "      <td>...</td>\n",
       "      <td>...</td>\n",
       "      <td>...</td>\n",
       "    </tr>\n",
       "    <tr>\n",
       "      <th>2023-07-26</th>\n",
       "      <td>455.510010</td>\n",
       "      <td>443.029999</td>\n",
       "      <td>0</td>\n",
       "    </tr>\n",
       "    <tr>\n",
       "      <th>2023-07-27</th>\n",
       "      <td>452.489990</td>\n",
       "      <td>436.890015</td>\n",
       "      <td>0</td>\n",
       "    </tr>\n",
       "    <tr>\n",
       "      <th>2023-07-28</th>\n",
       "      <td>456.920013</td>\n",
       "      <td>439.970001</td>\n",
       "      <td>0</td>\n",
       "    </tr>\n",
       "    <tr>\n",
       "      <th>2023-07-31</th>\n",
       "      <td>457.790009</td>\n",
       "      <td>442.760010</td>\n",
       "      <td>0</td>\n",
       "    </tr>\n",
       "    <tr>\n",
       "      <th>2023-08-01</th>\n",
       "      <td>456.480011</td>\n",
       "      <td>449.160004</td>\n",
       "      <td>0</td>\n",
       "    </tr>\n",
       "  </tbody>\n",
       "</table>\n",
       "<p>5750 rows × 3 columns</p>\n",
       "</div>"
      ],
      "text/plain": [
       "             SPY_Close  SPY_Close_Future  Target\n",
       "Date                                            \n",
       "2000-08-23  150.843750        142.687500       0\n",
       "2000-08-24  151.312500        145.281250       0\n",
       "2000-08-25  151.250000        144.250000       0\n",
       "2000-08-28  151.765625        142.406250       0\n",
       "2000-08-29  151.796875        143.156250       0\n",
       "...                ...               ...     ...\n",
       "2023-07-26  455.510010        443.029999       0\n",
       "2023-07-27  452.489990        436.890015       0\n",
       "2023-07-28  456.920013        439.970001       0\n",
       "2023-07-31  457.790009        442.760010       0\n",
       "2023-08-01  456.480011        449.160004       0\n",
       "\n",
       "[5750 rows x 3 columns]"
      ]
     },
     "execution_count": 9,
     "metadata": {},
     "output_type": "execute_result"
    }
   ],
   "source": [
    "df[f\"{CLOSE_NAME}_Future\"] = df[CLOSE_NAME].shift(-1 * PREDICTION_PERIOD_OFFSET)\n",
    "df.dropna(inplace=True)\n",
    "df[\"Target\"] = list(map(classify, df[CLOSE_NAME], df[f\"{CLOSE_NAME}_Future\"]))\n",
    "\n",
    "df[[CLOSE_NAME, f\"{CLOSE_NAME}_Future\", \"Target\"]]"
   ]
  },
  {
   "attachments": {},
   "cell_type": "markdown",
   "metadata": {},
   "source": [
    "### Splitting the data into training, validation and test sets\n"
   ]
  },
  {
   "cell_type": "code",
   "execution_count": 10,
   "metadata": {},
   "outputs": [
    {
     "data": {
      "text/html": [
       "<div>\n",
       "<style scoped>\n",
       "    .dataframe tbody tr th:only-of-type {\n",
       "        vertical-align: middle;\n",
       "    }\n",
       "\n",
       "    .dataframe tbody tr th {\n",
       "        vertical-align: top;\n",
       "    }\n",
       "\n",
       "    .dataframe thead th {\n",
       "        text-align: right;\n",
       "    }\n",
       "</style>\n",
       "<table border=\"1\" class=\"dataframe\">\n",
       "  <thead>\n",
       "    <tr style=\"text-align: right;\">\n",
       "      <th></th>\n",
       "      <th>SPY_Open</th>\n",
       "      <th>SPY_High</th>\n",
       "      <th>SPY_Low</th>\n",
       "      <th>SPY_Close</th>\n",
       "      <th>SPY_Volume</th>\n",
       "      <th>SPY_Close_RSI</th>\n",
       "      <th>QQQ_Close</th>\n",
       "      <th>^TNX_Close</th>\n",
       "      <th>^VIX_Close</th>\n",
       "      <th>CL=F_Close</th>\n",
       "      <th>SPY_Close_Future</th>\n",
       "      <th>Target</th>\n",
       "    </tr>\n",
       "    <tr>\n",
       "      <th>Date</th>\n",
       "      <th></th>\n",
       "      <th></th>\n",
       "      <th></th>\n",
       "      <th></th>\n",
       "      <th></th>\n",
       "      <th></th>\n",
       "      <th></th>\n",
       "      <th></th>\n",
       "      <th></th>\n",
       "      <th></th>\n",
       "      <th></th>\n",
       "      <th></th>\n",
       "    </tr>\n",
       "  </thead>\n",
       "  <tbody>\n",
       "    <tr>\n",
       "      <th>2000-08-23</th>\n",
       "      <td>149.812500</td>\n",
       "      <td>151.281250</td>\n",
       "      <td>149.281250</td>\n",
       "      <td>150.843750</td>\n",
       "      <td>5483200</td>\n",
       "      <td>60.811526</td>\n",
       "      <td>97.062500</td>\n",
       "      <td>5.725</td>\n",
       "      <td>17.379999</td>\n",
       "      <td>32.049999</td>\n",
       "      <td>142.687500</td>\n",
       "      <td>0</td>\n",
       "    </tr>\n",
       "    <tr>\n",
       "      <th>2000-08-24</th>\n",
       "      <td>151.156250</td>\n",
       "      <td>151.500000</td>\n",
       "      <td>150.500000</td>\n",
       "      <td>151.312500</td>\n",
       "      <td>4529000</td>\n",
       "      <td>62.225237</td>\n",
       "      <td>98.562500</td>\n",
       "      <td>5.716</td>\n",
       "      <td>17.040001</td>\n",
       "      <td>31.629999</td>\n",
       "      <td>145.281250</td>\n",
       "      <td>0</td>\n",
       "    </tr>\n",
       "    <tr>\n",
       "      <th>2000-08-25</th>\n",
       "      <td>151.156250</td>\n",
       "      <td>151.625000</td>\n",
       "      <td>150.937500</td>\n",
       "      <td>151.250000</td>\n",
       "      <td>2822200</td>\n",
       "      <td>61.904574</td>\n",
       "      <td>98.031250</td>\n",
       "      <td>5.721</td>\n",
       "      <td>16.530001</td>\n",
       "      <td>32.049999</td>\n",
       "      <td>144.250000</td>\n",
       "      <td>0</td>\n",
       "    </tr>\n",
       "    <tr>\n",
       "      <th>2000-08-28</th>\n",
       "      <td>151.250000</td>\n",
       "      <td>152.906250</td>\n",
       "      <td>151.250000</td>\n",
       "      <td>151.765625</td>\n",
       "      <td>5518700</td>\n",
       "      <td>63.572401</td>\n",
       "      <td>98.500000</td>\n",
       "      <td>5.766</td>\n",
       "      <td>16.540001</td>\n",
       "      <td>32.869999</td>\n",
       "      <td>142.406250</td>\n",
       "      <td>0</td>\n",
       "    </tr>\n",
       "    <tr>\n",
       "      <th>2000-08-29</th>\n",
       "      <td>151.437500</td>\n",
       "      <td>151.875000</td>\n",
       "      <td>150.906250</td>\n",
       "      <td>151.796875</td>\n",
       "      <td>3561900</td>\n",
       "      <td>63.676195</td>\n",
       "      <td>99.000000</td>\n",
       "      <td>5.808</td>\n",
       "      <td>16.889999</td>\n",
       "      <td>32.720001</td>\n",
       "      <td>143.156250</td>\n",
       "      <td>0</td>\n",
       "    </tr>\n",
       "    <tr>\n",
       "      <th>...</th>\n",
       "      <td>...</td>\n",
       "      <td>...</td>\n",
       "      <td>...</td>\n",
       "      <td>...</td>\n",
       "      <td>...</td>\n",
       "      <td>...</td>\n",
       "      <td>...</td>\n",
       "      <td>...</td>\n",
       "      <td>...</td>\n",
       "      <td>...</td>\n",
       "      <td>...</td>\n",
       "      <td>...</td>\n",
       "    </tr>\n",
       "    <tr>\n",
       "      <th>2023-07-26</th>\n",
       "      <td>454.470001</td>\n",
       "      <td>456.989990</td>\n",
       "      <td>453.380005</td>\n",
       "      <td>455.510010</td>\n",
       "      <td>71052900</td>\n",
       "      <td>71.639866</td>\n",
       "      <td>377.519989</td>\n",
       "      <td>3.851</td>\n",
       "      <td>13.190000</td>\n",
       "      <td>78.779999</td>\n",
       "      <td>443.029999</td>\n",
       "      <td>0</td>\n",
       "    </tr>\n",
       "    <tr>\n",
       "      <th>2023-07-27</th>\n",
       "      <td>459.019989</td>\n",
       "      <td>459.440002</td>\n",
       "      <td>451.549988</td>\n",
       "      <td>452.489990</td>\n",
       "      <td>92194400</td>\n",
       "      <td>63.921191</td>\n",
       "      <td>376.619995</td>\n",
       "      <td>4.012</td>\n",
       "      <td>14.410000</td>\n",
       "      <td>80.089996</td>\n",
       "      <td>436.890015</td>\n",
       "      <td>0</td>\n",
       "    </tr>\n",
       "    <tr>\n",
       "      <th>2023-07-28</th>\n",
       "      <td>455.880005</td>\n",
       "      <td>457.779999</td>\n",
       "      <td>452.489990</td>\n",
       "      <td>456.920013</td>\n",
       "      <td>80011800</td>\n",
       "      <td>69.168778</td>\n",
       "      <td>383.480011</td>\n",
       "      <td>3.969</td>\n",
       "      <td>13.330000</td>\n",
       "      <td>80.580002</td>\n",
       "      <td>439.970001</td>\n",
       "      <td>0</td>\n",
       "    </tr>\n",
       "    <tr>\n",
       "      <th>2023-07-31</th>\n",
       "      <td>457.410004</td>\n",
       "      <td>458.160004</td>\n",
       "      <td>456.049988</td>\n",
       "      <td>457.790009</td>\n",
       "      <td>62040400</td>\n",
       "      <td>70.088879</td>\n",
       "      <td>383.679993</td>\n",
       "      <td>3.959</td>\n",
       "      <td>13.630000</td>\n",
       "      <td>81.800003</td>\n",
       "      <td>442.760010</td>\n",
       "      <td>0</td>\n",
       "    </tr>\n",
       "    <tr>\n",
       "      <th>2023-08-01</th>\n",
       "      <td>456.269989</td>\n",
       "      <td>457.250000</td>\n",
       "      <td>455.489990</td>\n",
       "      <td>456.480011</td>\n",
       "      <td>55291500</td>\n",
       "      <td>66.853626</td>\n",
       "      <td>382.790009</td>\n",
       "      <td>4.051</td>\n",
       "      <td>13.930000</td>\n",
       "      <td>81.370003</td>\n",
       "      <td>449.160004</td>\n",
       "      <td>0</td>\n",
       "    </tr>\n",
       "  </tbody>\n",
       "</table>\n",
       "<p>5750 rows × 12 columns</p>\n",
       "</div>"
      ],
      "text/plain": [
       "              SPY_Open    SPY_High     SPY_Low   SPY_Close  SPY_Volume   \n",
       "Date                                                                     \n",
       "2000-08-23  149.812500  151.281250  149.281250  150.843750     5483200  \\\n",
       "2000-08-24  151.156250  151.500000  150.500000  151.312500     4529000   \n",
       "2000-08-25  151.156250  151.625000  150.937500  151.250000     2822200   \n",
       "2000-08-28  151.250000  152.906250  151.250000  151.765625     5518700   \n",
       "2000-08-29  151.437500  151.875000  150.906250  151.796875     3561900   \n",
       "...                ...         ...         ...         ...         ...   \n",
       "2023-07-26  454.470001  456.989990  453.380005  455.510010    71052900   \n",
       "2023-07-27  459.019989  459.440002  451.549988  452.489990    92194400   \n",
       "2023-07-28  455.880005  457.779999  452.489990  456.920013    80011800   \n",
       "2023-07-31  457.410004  458.160004  456.049988  457.790009    62040400   \n",
       "2023-08-01  456.269989  457.250000  455.489990  456.480011    55291500   \n",
       "\n",
       "            SPY_Close_RSI   QQQ_Close  ^TNX_Close  ^VIX_Close  CL=F_Close   \n",
       "Date                                                                        \n",
       "2000-08-23      60.811526   97.062500       5.725   17.379999   32.049999  \\\n",
       "2000-08-24      62.225237   98.562500       5.716   17.040001   31.629999   \n",
       "2000-08-25      61.904574   98.031250       5.721   16.530001   32.049999   \n",
       "2000-08-28      63.572401   98.500000       5.766   16.540001   32.869999   \n",
       "2000-08-29      63.676195   99.000000       5.808   16.889999   32.720001   \n",
       "...                   ...         ...         ...         ...         ...   \n",
       "2023-07-26      71.639866  377.519989       3.851   13.190000   78.779999   \n",
       "2023-07-27      63.921191  376.619995       4.012   14.410000   80.089996   \n",
       "2023-07-28      69.168778  383.480011       3.969   13.330000   80.580002   \n",
       "2023-07-31      70.088879  383.679993       3.959   13.630000   81.800003   \n",
       "2023-08-01      66.853626  382.790009       4.051   13.930000   81.370003   \n",
       "\n",
       "            SPY_Close_Future  Target  \n",
       "Date                                  \n",
       "2000-08-23        142.687500       0  \n",
       "2000-08-24        145.281250       0  \n",
       "2000-08-25        144.250000       0  \n",
       "2000-08-28        142.406250       0  \n",
       "2000-08-29        143.156250       0  \n",
       "...                      ...     ...  \n",
       "2023-07-26        443.029999       0  \n",
       "2023-07-27        436.890015       0  \n",
       "2023-07-28        439.970001       0  \n",
       "2023-07-31        442.760010       0  \n",
       "2023-08-01        449.160004       0  \n",
       "\n",
       "[5750 rows x 12 columns]"
      ]
     },
     "execution_count": 10,
     "metadata": {},
     "output_type": "execute_result"
    }
   ],
   "source": [
    "df"
   ]
  },
  {
   "cell_type": "code",
   "execution_count": 11,
   "metadata": {},
   "outputs": [
    {
     "name": "stdout",
     "output_type": "stream",
     "text": [
      "NON-BALANCED DATA:\n",
      "TRAIN: 4025 (70.0%), NON-TRAIN: 1725 (30.0%)\n",
      "VALIDATION: 1139 (19.808695652173913%), TEST: 586 (10.191304347826087%)\n"
     ]
    }
   ],
   "source": [
    "TOTAL_DF_LEN = len(df.index)\n",
    "train_split_index = -1 * int(NON_TRAIN_PCT * TOTAL_DF_LEN)\n",
    "train_df, non_train_df = df[:train_split_index], df[train_split_index:]\n",
    "\n",
    "non_train_split_index = -1 * int((1 - VALIDATION_TRAIN_RATIO) * len(non_train_df.index))\n",
    "validation_df, test_df = (\n",
    "    non_train_df[:non_train_split_index],\n",
    "    non_train_df[non_train_split_index:],\n",
    ")\n",
    "\n",
    "print(\"NON-BALANCED DATA:\")\n",
    "print(\n",
    "    f\"TRAIN: {len(train_df)} ({len(train_df) / TOTAL_DF_LEN * 100}%), NON-TRAIN: {len(non_train_df)} ({len(non_train_df) / TOTAL_DF_LEN * 100}%)\"\n",
    ")\n",
    "print(\n",
    "    f\"VALIDATION: {len(validation_df)} ({len(validation_df) / TOTAL_DF_LEN * 100}%), TEST: {len(test_df)} ({len(test_df) / TOTAL_DF_LEN * 100}%)\"\n",
    ")"
   ]
  },
  {
   "attachments": {},
   "cell_type": "markdown",
   "metadata": {},
   "source": [
    "### Preprocess the training and non-training data\n"
   ]
  },
  {
   "cell_type": "code",
   "execution_count": 12,
   "metadata": {},
   "outputs": [],
   "source": [
    "def preprocess_df(df, balance=True):\n",
    "    TICKER = df.columns[0].split(\"_\")[0]\n",
    "    CLOSE_NAME = TICKER + \"_Close\"\n",
    "    df = df.drop(columns=[f\"{CLOSE_NAME}_Future\"])\n",
    "\n",
    "    # Scale the data\n",
    "    for col in df.columns:\n",
    "        if col != \"Target\":\n",
    "            df[col] = df[col].pct_change()\n",
    "            df.replace([np.inf, -np.inf], np.nan, inplace=True)\n",
    "            df.dropna(inplace=True)\n",
    "            df[col] = preprocessing.scale(df[col].values)\n",
    "\n",
    "    df.dropna(inplace=True)\n",
    "\n",
    "    # Create the sequential data\n",
    "    sequential_data = []\n",
    "    data_queue = deque(maxlen=SEQUENCE_LEN)\n",
    "\n",
    "    for datapoint in df.values:\n",
    "        # The last column in the df will be Target. Don't include this in the list of independent features\n",
    "        data_queue.append(datapoint[:-1])\n",
    "        if len(data_queue) == SEQUENCE_LEN:\n",
    "            sequential_data.append([np.array(data_queue), datapoint[-1]])\n",
    "\n",
    "    random.shuffle(sequential_data)\n",
    "\n",
    "    if balance:\n",
    "        # Balance the dataset\n",
    "        buys = []\n",
    "        sells = []\n",
    "\n",
    "        for seq, target in sequential_data:\n",
    "            if target:\n",
    "                buys.append([seq, target])\n",
    "            else:\n",
    "                sells.append([seq, target])\n",
    "\n",
    "        minimum = min(len(buys), len(sells))\n",
    "\n",
    "        random.shuffle(buys)\n",
    "        random.shuffle(sells)\n",
    "\n",
    "        buys = buys[:minimum]\n",
    "        sells = sells[:minimum]\n",
    "\n",
    "        sequential_data = buys + sells\n",
    "        random.shuffle(sequential_data)\n",
    "\n",
    "    X = []\n",
    "    y = []\n",
    "\n",
    "    for seq, target in sequential_data:\n",
    "        X.append(seq)\n",
    "        y.append(target)\n",
    "\n",
    "    return np.array(X), np.array(y)"
   ]
  },
  {
   "cell_type": "code",
   "execution_count": 13,
   "metadata": {},
   "outputs": [
    {
     "name": "stdout",
     "output_type": "stream",
     "text": [
      "\n",
      "BALANCED DATA:\n",
      "Train: 2852\n",
      "Validation: 488\n",
      "Test: 292\n",
      "\n"
     ]
    }
   ],
   "source": [
    "X_train, y_train = preprocess_df(train_df)\n",
    "X_validation, y_validation = preprocess_df(validation_df)\n",
    "X_test, y_test = preprocess_df(test_df)\n",
    "\n",
    "print(\n",
    "    f\"\"\"\n",
    "BALANCED DATA:\n",
    "Train: {len(X_train)}\n",
    "Validation: {len(X_validation)}\n",
    "Test: {len(X_test)}\n",
    "\"\"\"\n",
    ")"
   ]
  },
  {
   "attachments": {},
   "cell_type": "markdown",
   "metadata": {},
   "source": [
    "## Training the model\n"
   ]
  },
  {
   "cell_type": "code",
   "execution_count": 14,
   "metadata": {},
   "outputs": [],
   "source": [
    "EPOCHS = 25\n",
    "BATCH_SIZE = 32\n",
    "CHECKPOINT_SAVE_PATH = f\"./models/temp/{TICKER_TO_PREDICT}/\""
   ]
  },
  {
   "cell_type": "code",
   "execution_count": 20,
   "metadata": {},
   "outputs": [
    {
     "name": "stdout",
     "output_type": "stream",
     "text": [
      "Epoch 1/25\n",
      "90/90 [==============================] - 56s 528ms/step - loss: 1.7604 - accuracy: 0.5025 - val_loss: 0.7008 - val_accuracy: 0.4385\n",
      "Epoch 2/25\n",
      "90/90 [==============================] - 43s 483ms/step - loss: 1.2718 - accuracy: 0.5109 - val_loss: 0.6960 - val_accuracy: 0.5020\n",
      "Epoch 3/25\n",
      "90/90 [==============================] - 43s 478ms/step - loss: 1.0629 - accuracy: 0.4860 - val_loss: 0.6976 - val_accuracy: 0.4447\n",
      "Epoch 4/25\n",
      "90/90 [==============================] - 41s 453ms/step - loss: 0.9029 - accuracy: 0.5154 - val_loss: 0.6923 - val_accuracy: 0.5430\n",
      "Epoch 5/25\n",
      "90/90 [==============================] - 40s 443ms/step - loss: 0.8658 - accuracy: 0.4874 - val_loss: 0.6928 - val_accuracy: 0.4631\n",
      "Epoch 6/25\n",
      "90/90 [==============================] - 41s 453ms/step - loss: 0.7973 - accuracy: 0.4881 - val_loss: 0.6919 - val_accuracy: 0.5287\n",
      "Epoch 7/25\n",
      "90/90 [==============================] - 42s 466ms/step - loss: 0.7536 - accuracy: 0.5063 - val_loss: 0.6937 - val_accuracy: 0.5287\n",
      "Epoch 8/25\n",
      "90/90 [==============================] - 41s 459ms/step - loss: 0.7394 - accuracy: 0.5144 - val_loss: 0.6936 - val_accuracy: 0.5369\n",
      "Epoch 9/25\n",
      "90/90 [==============================] - 44s 495ms/step - loss: 0.7249 - accuracy: 0.4926 - val_loss: 0.6932 - val_accuracy: 0.4693\n",
      "Epoch 10/25\n",
      "90/90 [==============================] - 42s 465ms/step - loss: 0.7126 - accuracy: 0.5049 - val_loss: 0.6933 - val_accuracy: 0.4898\n",
      "Epoch 11/25\n",
      "90/90 [==============================] - 44s 493ms/step - loss: 0.7140 - accuracy: 0.4744 - val_loss: 0.6940 - val_accuracy: 0.4365\n",
      "Epoch 11: early stopping\n"
     ]
    }
   ],
   "source": [
    "model = Sequential(\n",
    "    [\n",
    "        Bidirectional(LSTM(64, return_sequences=True)),\n",
    "        Dropout(0.75),\n",
    "        Bidirectional(LSTM(64)),\n",
    "        Dropout(0.75),\n",
    "        BatchNormalization(),\n",
    "        Dense(16),\n",
    "        Dropout(0.5),\n",
    "        Dense(16),\n",
    "        Dropout(0.5),\n",
    "        Dense(2, activation=\"softmax\"),\n",
    "    ]\n",
    ")\n",
    "opt = Adam()\n",
    "model_checkpoint_callback = tf.keras.callbacks.ModelCheckpoint(\n",
    "    filepath=CHECKPOINT_SAVE_PATH,\n",
    "    save_weights_only=True,\n",
    "    monitor=\"val_accuracy\",\n",
    "    mode=\"max\",\n",
    "    save_best_only=True,\n",
    ")\n",
    "early_stopping_callback = tf.keras.callbacks.EarlyStopping(\n",
    "    monitor=\"val_loss\", patience=5, verbose=1\n",
    ")\n",
    "model.compile(\n",
    "    optimizer=opt, loss=\"sparse_categorical_crossentropy\", metrics=[\"accuracy\"]\n",
    ")\n",
    "\n",
    "history = model.fit(\n",
    "    X_train,\n",
    "    y_train,\n",
    "    batch_size=BATCH_SIZE,\n",
    "    epochs=EPOCHS,\n",
    "    validation_data=(X_validation, y_validation),\n",
    "    callbacks=[model_checkpoint_callback, early_stopping_callback],\n",
    ")"
   ]
  },
  {
   "cell_type": "code",
   "execution_count": 21,
   "metadata": {},
   "outputs": [
    {
     "data": {
      "text/plain": [
       "<tensorflow.python.checkpoint.checkpoint.CheckpointLoadStatus at 0x234260f7290>"
      ]
     },
     "execution_count": 21,
     "metadata": {},
     "output_type": "execute_result"
    }
   ],
   "source": [
    "model.load_weights(CHECKPOINT_SAVE_PATH)"
   ]
  },
  {
   "cell_type": "code",
   "execution_count": 22,
   "metadata": {},
   "outputs": [
    {
     "name": "stdout",
     "output_type": "stream",
     "text": [
      "Model: \"sequential_5\"\n",
      "_________________________________________________________________\n",
      " Layer (type)                Output Shape              Param #   \n",
      "=================================================================\n",
      " bidirectional_10 (Bidirecti  (None, 250, 128)         38400     \n",
      " onal)                                                           \n",
      "                                                                 \n",
      " dropout_20 (Dropout)        (None, 250, 128)          0         \n",
      "                                                                 \n",
      " bidirectional_11 (Bidirecti  (None, 128)              98816     \n",
      " onal)                                                           \n",
      "                                                                 \n",
      " dropout_21 (Dropout)        (None, 128)               0         \n",
      "                                                                 \n",
      " batch_normalization_5 (Batc  (None, 128)              512       \n",
      " hNormalization)                                                 \n",
      "                                                                 \n",
      " dense_15 (Dense)            (None, 16)                2064      \n",
      "                                                                 \n",
      " dropout_22 (Dropout)        (None, 16)                0         \n",
      "                                                                 \n",
      " dense_16 (Dense)            (None, 16)                272       \n",
      "                                                                 \n",
      " dropout_23 (Dropout)        (None, 16)                0         \n",
      "                                                                 \n",
      " dense_17 (Dense)            (None, 2)                 34        \n",
      "                                                                 \n",
      "=================================================================\n",
      "Total params: 140,098\n",
      "Trainable params: 139,842\n",
      "Non-trainable params: 256\n",
      "_________________________________________________________________\n"
     ]
    }
   ],
   "source": [
    "model.summary()"
   ]
  },
  {
   "cell_type": "markdown",
   "metadata": {},
   "source": [
    "### Plotting model loss and performance\n"
   ]
  },
  {
   "cell_type": "code",
   "execution_count": 23,
   "metadata": {},
   "outputs": [
    {
     "data": {
      "image/png": "[encoded data removed]",
      "text/plain": [
       "<Figure size 640x480 with 1 Axes>"
      ]
     },
     "metadata": {},
     "output_type": "display_data"
    }
   ],
   "source": [
    "plt.plot(history.history[\"loss\"])\n",
    "plt.plot(history.history[\"val_loss\"])\n",
    "plt.title(\"model loss\")\n",
    "plt.ylabel(\"loss\")\n",
    "plt.xlabel(\"epoch\")\n",
    "plt.legend([\"train\", \"val\"], loc=\"upper left\")\n",
    "plt.show()"
   ]
  },
  {
   "cell_type": "code",
   "execution_count": 24,
   "metadata": {},
   "outputs": [
    {
     "data": {
      "image/png": "[encoded data removed]",
      "text/plain": [
       "<Figure size 640x480 with 1 Axes>"
      ]
     },
     "metadata": {},
     "output_type": "display_data"
    }
   ],
   "source": [
    "plt.plot(history.history[\"accuracy\"])\n",
    "plt.plot(history.history[\"val_accuracy\"])\n",
    "plt.title(\"model accuracy\")\n",
    "plt.ylabel(\"accuracy\")\n",
    "plt.xlabel(\"epoch\")\n",
    "plt.legend([\"train\", \"val\"], loc=\"upper left\")\n",
    "plt.show()"
   ]
  },
  {
   "attachments": {},
   "cell_type": "markdown",
   "metadata": {},
   "source": [
    "### Saving the model\n"
   ]
  },
  {
   "cell_type": "code",
   "execution_count": 14,
   "metadata": {},
   "outputs": [
    {
     "data": {
      "text/plain": [
       "'./models/SPY_lg_20230830/'"
      ]
     },
     "execution_count": 14,
     "metadata": {},
     "output_type": "execute_result"
    }
   ],
   "source": [
    "MODEL_SAVE_PATH = f\"./models/{TICKER_TO_PREDICT}_lg_{TRAIN_DATA_END_DATE.strftime('%Y%m%d')}/\"\n",
    "MODEL_SAVE_PATH"
   ]
  },
  {
   "cell_type": "code",
   "execution_count": 26,
   "metadata": {},
   "outputs": [
    {
     "name": "stderr",
     "output_type": "stream",
     "text": [
      "WARNING:absl:Found untraced functions such as _update_step_xla, lstm_cell_31_layer_call_fn, lstm_cell_31_layer_call_and_return_conditional_losses, lstm_cell_32_layer_call_fn, lstm_cell_32_layer_call_and_return_conditional_losses while saving (showing 5 of 9). These functions will not be directly callable after loading.\n"
     ]
    },
    {
     "name": "stdout",
     "output_type": "stream",
     "text": [
      "INFO:tensorflow:Assets written to: ./models/SPY_lg_20230830/assets\n"
     ]
    },
    {
     "name": "stderr",
     "output_type": "stream",
     "text": [
      "INFO:tensorflow:Assets written to: ./models/SPY_lg_20230830/assets\n"
     ]
    }
   ],
   "source": [
    "model.save(MODEL_SAVE_PATH)"
   ]
  },
  {
   "attachments": {},
   "cell_type": "markdown",
   "metadata": {},
   "source": [
    "### Loading in the model\n"
   ]
  },
  {
   "cell_type": "code",
   "execution_count": 15,
   "metadata": {},
   "outputs": [],
   "source": [
    "model = tf.keras.models.load_model(MODEL_SAVE_PATH)"
   ]
  },
  {
   "attachments": {},
   "cell_type": "markdown",
   "metadata": {},
   "source": [
    "## Evaluating the model\n"
   ]
  },
  {
   "cell_type": "markdown",
   "metadata": {},
   "source": [
    "### Confusion Matrix\n"
   ]
  },
  {
   "cell_type": "code",
   "execution_count": 16,
   "metadata": {},
   "outputs": [
    {
     "data": {
      "image/png": "[encoded data removed]",
      "text/plain": [
       "<Figure size 640x480 with 2 Axes>"
      ]
     },
     "metadata": {},
     "output_type": "display_data"
    }
   ],
   "source": [
    "logits = model(X_test, training=False)\n",
    "predictions = tf.math.argmax(logits, axis=1, output_type=tf.int64)\n",
    "cf_matrix = confusion_matrix(y_test, predictions)\n",
    "cm_display = ConfusionMatrixDisplay(cf_matrix, display_labels=[\"Lower\", \"Higher\"])\n",
    "cm_display.plot()\n",
    "plt.show()"
   ]
  },
  {
   "cell_type": "markdown",
   "metadata": {},
   "source": [
    "### Precision and Recall\n"
   ]
  },
  {
   "cell_type": "code",
   "execution_count": 17,
   "metadata": {},
   "outputs": [
    {
     "name": "stdout",
     "output_type": "stream",
     "text": [
      "              precision    recall  f1-score   support\n",
      "\n",
      "       Lower       0.55      0.33      0.41       146\n",
      "      Higher       0.52      0.73      0.61       146\n",
      "\n",
      "    accuracy                           0.53       292\n",
      "   macro avg       0.54      0.53      0.51       292\n",
      "weighted avg       0.54      0.53      0.51       292\n",
      "\n"
     ]
    }
   ],
   "source": [
    "logits = model(X_test, training=False)\n",
    "predictions = tf.math.argmax(logits, axis=1, output_type=tf.int64)\n",
    "print(classification_report(y_test, predictions, target_names=[\"Lower\", \"Higher\"]))"
   ]
  },
  {
   "attachments": {},
   "cell_type": "markdown",
   "metadata": {},
   "source": [
    "### Testing on the test dataset\n"
   ]
  },
  {
   "cell_type": "code",
   "execution_count": 18,
   "metadata": {},
   "outputs": [
    {
     "data": {
      "text/plain": [
       "<tf.Tensor: shape=(), dtype=float32, numpy=0.5308219>"
      ]
     },
     "execution_count": 18,
     "metadata": {},
     "output_type": "execute_result"
    }
   ],
   "source": [
    "logits = model(X_test, training=False)\n",
    "predictions = tf.math.argmax(logits, axis=1, output_type=tf.int64)\n",
    "test_accuracy = tf.keras.metrics.Accuracy()\n",
    "test_accuracy(predictions, y_test)"
   ]
  },
  {
   "attachments": {},
   "cell_type": "markdown",
   "metadata": {},
   "source": [
    "### Testing on the entire dataset\n"
   ]
  },
  {
   "cell_type": "code",
   "execution_count": 19,
   "metadata": {},
   "outputs": [
    {
     "data": {
      "text/plain": [
       "<tf.Tensor: shape=(), dtype=float32, numpy=0.53908217>"
      ]
     },
     "execution_count": 19,
     "metadata": {},
     "output_type": "execute_result"
    }
   ],
   "source": [
    "X, y = preprocess_df(df)\n",
    "\n",
    "logits = model(X, training=False)\n",
    "predictions = tf.math.argmax(logits, axis=1, output_type=tf.int64)\n",
    "test_accuracy = tf.keras.metrics.Accuracy()\n",
    "test_accuracy(predictions, y)"
   ]
  },
  {
   "attachments": {},
   "cell_type": "markdown",
   "metadata": {},
   "source": [
    "### Testing on various stock tickers (within the S&P500)\n"
   ]
  },
  {
   "cell_type": "code",
   "execution_count": 20,
   "metadata": {},
   "outputs": [],
   "source": [
    "def test_ticker(TICKER):\n",
    "    df = yf.download(TICKER, progress=False)\n",
    "    df.drop(columns=[\"Adj Close\"], inplace=True)\n",
    "    df.rename(columns={col: f\"{TICKER}_{col}\" for col in df.columns}, inplace=True)\n",
    "\n",
    "    df[f\"{TICKER}_Close_RSI\"] = RSIIndicator(df[f\"{TICKER}_Close\"], window=14).rsi()\n",
    "    df.dropna(inplace=True)\n",
    "\n",
    "    for ticker in INDICATOR_TICKERS:\n",
    "        ticker_data = yf.download(ticker, progress=False)\n",
    "        relevant_data = ticker_data[RELEVANT_COLS]\n",
    "        relevant_data = relevant_data.rename(\n",
    "            columns={col: f\"{ticker}_{col}\" for col in RELEVANT_COLS}\n",
    "        )\n",
    "        # Only join if the columns aren't already present\n",
    "        if len(set(df.columns).intersection(set(relevant_data.columns))) == 0:\n",
    "            df = df.join(relevant_data)\n",
    "\n",
    "    df.dropna(inplace=True)\n",
    "\n",
    "    df[f\"{TICKER}_Close_Future\"] = df[f\"{TICKER}_Close\"].shift(\n",
    "        -1 * PREDICTION_PERIOD_OFFSET\n",
    "    )\n",
    "    df.dropna(inplace=True)\n",
    "    df[\"Target\"] = list(\n",
    "        map(classify, df[f\"{TICKER}_Close\"], df[f\"{TICKER}_Close_Future\"])\n",
    "    )\n",
    "\n",
    "    X, y = preprocess_df(df, balance=False)\n",
    "\n",
    "    print(\"Starting inference\")\n",
    "    start = time.time()\n",
    "    logits = model(X, training=False)\n",
    "    print(\"End of inference\")\n",
    "    print(f\"Inference took: {time.time() - start}s\")\n",
    "    predictions = tf.math.argmax(logits, axis=1, output_type=tf.int64)\n",
    "    test_accuracy = tf.keras.metrics.Accuracy()\n",
    "\n",
    "    return test_accuracy(predictions, y)"
   ]
  },
  {
   "cell_type": "code",
   "execution_count": 21,
   "metadata": {},
   "outputs": [
    {
     "name": "stdout",
     "output_type": "stream",
     "text": [
      "Starting inference\n",
      "End of inference\n",
      "Inference took: 17.376892805099487s\n"
     ]
    },
    {
     "data": {
      "text/plain": [
       "<tf.Tensor: shape=(), dtype=float32, numpy=0.5895101>"
      ]
     },
     "execution_count": 21,
     "metadata": {},
     "output_type": "execute_result"
    }
   ],
   "source": [
    "test_ticker(\"AAPL\")"
   ]
  },
  {
   "cell_type": "code",
   "execution_count": 22,
   "metadata": {},
   "outputs": [
    {
     "name": "stdout",
     "output_type": "stream",
     "text": [
      "Starting inference\n",
      "End of inference\n",
      "Inference took: 17.816323041915894s\n"
     ]
    },
    {
     "data": {
      "text/plain": [
       "<tf.Tensor: shape=(), dtype=float32, numpy=0.5869605>"
      ]
     },
     "execution_count": 22,
     "metadata": {},
     "output_type": "execute_result"
    }
   ],
   "source": [
    "test_ticker(\"MSFT\")"
   ]
  },
  {
   "cell_type": "code",
   "execution_count": 23,
   "metadata": {},
   "outputs": [
    {
     "name": "stdout",
     "output_type": "stream",
     "text": [
      "Starting inference\n",
      "End of inference\n",
      "Inference took: 9.201426029205322s\n"
     ]
    },
    {
     "data": {
      "text/plain": [
       "<tf.Tensor: shape=(), dtype=float32, numpy=0.61213136>"
      ]
     },
     "execution_count": 23,
     "metadata": {},
     "output_type": "execute_result"
    }
   ],
   "source": [
    "test_ticker(\"V\")"
   ]
  },
  {
   "cell_type": "code",
   "execution_count": 24,
   "metadata": {},
   "outputs": [
    {
     "name": "stdout",
     "output_type": "stream",
     "text": [
      "Starting inference\n",
      "End of inference\n",
      "Inference took: 17.352163314819336s\n"
     ]
    },
    {
     "data": {
      "text/plain": [
       "<tf.Tensor: shape=(), dtype=float32, numpy=0.55927885>"
      ]
     },
     "execution_count": 24,
     "metadata": {},
     "output_type": "execute_result"
    }
   ],
   "source": [
    "test_ticker(\"HD\")"
   ]
  },
  {
   "cell_type": "code",
   "execution_count": 25,
   "metadata": {},
   "outputs": [
    {
     "name": "stdout",
     "output_type": "stream",
     "text": [
      "Starting inference\n",
      "End of inference\n",
      "Inference took: 16.924986362457275s\n"
     ]
    },
    {
     "data": {
      "text/plain": [
       "<tf.Tensor: shape=(), dtype=float32, numpy=0.5445274>"
      ]
     },
     "execution_count": 25,
     "metadata": {},
     "output_type": "execute_result"
    }
   ],
   "source": [
    "test_ticker(\"KO\")"
   ]
  },
  {
   "cell_type": "code",
   "execution_count": 26,
   "metadata": {},
   "outputs": [
    {
     "name": "stdout",
     "output_type": "stream",
     "text": [
      "Starting inference\n",
      "End of inference\n",
      "Inference took: 17.603392601013184s\n"
     ]
    },
    {
     "data": {
      "text/plain": [
       "<tf.Tensor: shape=(), dtype=float32, numpy=0.5554544>"
      ]
     },
     "execution_count": 26,
     "metadata": {},
     "output_type": "execute_result"
    }
   ],
   "source": [
    "test_ticker(\"JPM\")"
   ]
  },
  {
   "attachments": {},
   "cell_type": "markdown",
   "metadata": {},
   "source": [
    "### Testing on various stock tickers (not in the S&P500)\n"
   ]
  },
  {
   "cell_type": "code",
   "execution_count": 27,
   "metadata": {},
   "outputs": [
    {
     "name": "stdout",
     "output_type": "stream",
     "text": [
      "Starting inference\n",
      "End of inference\n",
      "Inference took: 17.131781578063965s\n"
     ]
    },
    {
     "data": {
      "text/plain": [
       "<tf.Tensor: shape=(), dtype=float32, numpy=0.5463424>"
      ]
     },
     "execution_count": 27,
     "metadata": {},
     "output_type": "execute_result"
    }
   ],
   "source": [
    "test_ticker(\"MC.PA\")"
   ]
  },
  {
   "cell_type": "code",
   "execution_count": 28,
   "metadata": {},
   "outputs": [
    {
     "name": "stdout",
     "output_type": "stream",
     "text": [
      "Starting inference\n",
      "End of inference\n",
      "Inference took: 17.464688062667847s\n"
     ]
    },
    {
     "data": {
      "text/plain": [
       "<tf.Tensor: shape=(), dtype=float32, numpy=0.5556365>"
      ]
     },
     "execution_count": 28,
     "metadata": {},
     "output_type": "execute_result"
    }
   ],
   "source": [
    "test_ticker(\"TTE\")"
   ]
  },
  {
   "cell_type": "code",
   "execution_count": 29,
   "metadata": {},
   "outputs": [
    {
     "name": "stdout",
     "output_type": "stream",
     "text": [
      "Starting inference\n",
      "End of inference\n",
      "Inference took: 19.830444812774658s\n"
     ]
    },
    {
     "data": {
      "text/plain": [
       "<tf.Tensor: shape=(), dtype=float32, numpy=0.58659625>"
      ]
     },
     "execution_count": 29,
     "metadata": {},
     "output_type": "execute_result"
    }
   ],
   "source": [
    "test_ticker(\"LIN\")"
   ]
  },
  {
   "cell_type": "code",
   "execution_count": null,
   "metadata": {},
   "outputs": [],
   "source": []
  }
 ],
 "metadata": {
  "kernelspec": {
   "display_name": ".venv",
   "language": "python",
   "name": "python3"
  },
  "language_info": {
   "codemirror_mode": {
    "name": "ipython",
    "version": 3
   },
   "file_extension": ".py",
   "mimetype": "text/x-python",
   "name": "python",
   "nbconvert_exporter": "python",
   "pygments_lexer": "ipython3",
   "version": "3.11.4"
  },
  "orig_nbformat": 4
 },
 "nbformat": 4,
 "nbformat_minor": 2
}
