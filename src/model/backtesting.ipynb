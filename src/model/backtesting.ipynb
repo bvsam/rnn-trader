{
 "cells": [
  {
   "cell_type": "code",
   "execution_count": 1,
   "metadata": {},
   "outputs": [],
   "source": [
    "import yfinance as yf\n",
    "import numpy as np\n",
    "from sklearn import preprocessing\n",
    "from ta.momentum import RSIIndicator\n",
    "from collections import deque\n",
    "import random\n",
    "import tensorflow as tf"
   ]
  },
  {
   "attachments": {},
   "cell_type": "markdown",
   "metadata": {},
   "source": [
    "## Setting up\n"
   ]
  },
  {
   "attachments": {},
   "cell_type": "markdown",
   "metadata": {},
   "source": [
    "### Defining constants\n"
   ]
  },
  {
   "cell_type": "code",
   "execution_count": 2,
   "metadata": {},
   "outputs": [],
   "source": [
    "# Length of sequences to feed the RNN\n",
    "SEQUENCE_LEN = 60\n",
    "# Number of periods (days if data is daily) in the future to predict\n",
    "PREDICTION_PERIOD_OFFSET = 20\n",
    "\n",
    "RELEVANT_COLS = [\"Close\"]\n",
    "INDICATOR_TICKERS = [\"QQQ\", \"^TNX\", \"^VIX\", \"CL=F\"]"
   ]
  },
  {
   "attachments": {},
   "cell_type": "markdown",
   "metadata": {},
   "source": [
    "### Defining functions for testing\n"
   ]
  },
  {
   "cell_type": "code",
   "execution_count": 3,
   "metadata": {},
   "outputs": [],
   "source": [
    "def classify(current, future):\n",
    "    return int(float(future) > float(current))\n",
    "\n",
    "\n",
    "def preprocess_df(df, balance=True):\n",
    "    TICKER = df.columns[0].split(\"_\")[0]\n",
    "    CLOSE_NAME = TICKER + \"_Close\"\n",
    "    df = df.drop(columns=[f\"{CLOSE_NAME}_Future\"])\n",
    "\n",
    "    # Scale the data\n",
    "    for col in df.columns:\n",
    "        if col != \"Target\":\n",
    "            df[col] = df[col].pct_change()\n",
    "            df.replace([np.inf, -np.inf], np.nan, inplace=True)\n",
    "            df.dropna(inplace=True)\n",
    "            df[col] = preprocessing.scale(df[col].values)\n",
    "\n",
    "    df.dropna(inplace=True)\n",
    "\n",
    "    # Create the sequential data\n",
    "    sequential_data = []\n",
    "    data_queue = deque(maxlen=SEQUENCE_LEN)\n",
    "\n",
    "    for datapoint in df.values:\n",
    "        # The last column in the df will be Target. Don't include this in the list of independent features\n",
    "        data_queue.append(datapoint[:-1])\n",
    "        if len(data_queue) == SEQUENCE_LEN:\n",
    "            sequential_data.append([np.array(data_queue), datapoint[-1]])\n",
    "\n",
    "    random.shuffle(sequential_data)\n",
    "\n",
    "    if balance:\n",
    "        # Balance the dataset\n",
    "        buys = []\n",
    "        sells = []\n",
    "\n",
    "        for seq, target in sequential_data:\n",
    "            if target:\n",
    "                buys.append([seq, target])\n",
    "            else:\n",
    "                sells.append([seq, target])\n",
    "\n",
    "        minimum = min(len(buys), len(sells))\n",
    "\n",
    "        random.shuffle(buys)\n",
    "        random.shuffle(sells)\n",
    "\n",
    "        buys = buys[:minimum]\n",
    "        sells = sells[:minimum]\n",
    "\n",
    "        sequential_data = buys + sells\n",
    "        random.shuffle(sequential_data)\n",
    "\n",
    "    X = []\n",
    "    y = []\n",
    "\n",
    "    for seq, target in sequential_data:\n",
    "        X.append(seq)\n",
    "        y.append(target)\n",
    "\n",
    "    return np.array(X), np.array(y)\n",
    "\n",
    "\n",
    "def create_df(TICKER):\n",
    "    df = yf.download(TICKER, progress=False)\n",
    "    df.drop(columns=[\"Adj Close\"], inplace=True)\n",
    "    df.rename(columns={col: f\"{TICKER}_{col}\" for col in df.columns}, inplace=True)\n",
    "\n",
    "    df[f\"{TICKER}_Close_RSI\"] = RSIIndicator(df[f\"{TICKER}_Close\"], window=14).rsi()\n",
    "    df.dropna(inplace=True)\n",
    "\n",
    "    for ticker in INDICATOR_TICKERS:\n",
    "        ticker_data = yf.download(ticker, progress=False)\n",
    "        relevant_data = ticker_data[RELEVANT_COLS]\n",
    "        relevant_data = relevant_data.rename(\n",
    "            columns={col: f\"{ticker}_{col}\" for col in RELEVANT_COLS}\n",
    "        )\n",
    "        # Only join if the columns aren't already present\n",
    "        if len(set(df.columns).intersection(set(relevant_data.columns))) == 0:\n",
    "            df = df.join(relevant_data)\n",
    "\n",
    "    df.dropna(inplace=True)\n",
    "\n",
    "    df[f\"{TICKER}_Close_Future\"] = df[f\"{TICKER}_Close\"].shift(\n",
    "        -1 * PREDICTION_PERIOD_OFFSET\n",
    "    )\n",
    "    df.dropna(inplace=True)\n",
    "    df[\"Target\"] = list(\n",
    "        map(classify, df[f\"{TICKER}_Close\"], df[f\"{TICKER}_Close_Future\"])\n",
    "    )\n",
    "\n",
    "    return df\n",
    "\n",
    "\n",
    "def test_ticker(model, TICKER):\n",
    "    df = create_df(TICKER)\n",
    "\n",
    "    X, y = preprocess_df(df, balance=False)\n",
    "\n",
    "    logits = model(X, training=False)\n",
    "    predictions = tf.math.argmax(logits, axis=1, output_type=tf.int64)\n",
    "    test_accuracy = tf.keras.metrics.Accuracy()\n",
    "\n",
    "    return test_accuracy(predictions, y)"
   ]
  },
  {
   "attachments": {},
   "cell_type": "markdown",
   "metadata": {},
   "source": [
    "### Loading in the model\n"
   ]
  },
  {
   "cell_type": "code",
   "execution_count": 4,
   "metadata": {},
   "outputs": [],
   "source": [
    "model = tf.keras.models.load_model(\"./models/SPY\")"
   ]
  },
  {
   "cell_type": "code",
   "execution_count": 5,
   "metadata": {},
   "outputs": [
    {
     "name": "stdout",
     "output_type": "stream",
     "text": [
      "Model: \"sequential_4\"\n",
      "_________________________________________________________________\n",
      " Layer (type)                Output Shape              Param #   \n",
      "=================================================================\n",
      " lstm_4 (LSTM)               (None, 20)                2480      \n",
      "                                                                 \n",
      " dropout_12 (Dropout)        (None, 20)                0         \n",
      "                                                                 \n",
      " batch_normalization_4 (Batc  (None, 20)               80        \n",
      " hNormalization)                                                 \n",
      "                                                                 \n",
      " dense_12 (Dense)            (None, 16)                336       \n",
      "                                                                 \n",
      " dropout_13 (Dropout)        (None, 16)                0         \n",
      "                                                                 \n",
      " dense_13 (Dense)            (None, 16)                272       \n",
      "                                                                 \n",
      " dropout_14 (Dropout)        (None, 16)                0         \n",
      "                                                                 \n",
      " dense_14 (Dense)            (None, 2)                 34        \n",
      "                                                                 \n",
      "=================================================================\n",
      "Total params: 3,202\n",
      "Trainable params: 3,162\n",
      "Non-trainable params: 40\n",
      "_________________________________________________________________\n"
     ]
    }
   ],
   "source": [
    "model.summary()"
   ]
  },
  {
   "attachments": {},
   "cell_type": "markdown",
   "metadata": {},
   "source": [
    "## Backtesting accuracies\n"
   ]
  },
  {
   "attachments": {},
   "cell_type": "markdown",
   "metadata": {},
   "source": [
    "### Testing the model on various tickers\n"
   ]
  },
  {
   "cell_type": "code",
   "execution_count": 6,
   "metadata": {},
   "outputs": [
    {
     "data": {
      "text/plain": [
       "<tf.Tensor: shape=(), dtype=float32, numpy=0.52080727>"
      ]
     },
     "execution_count": 6,
     "metadata": {},
     "output_type": "execute_result"
    }
   ],
   "source": [
    "test_ticker(model, \"SHEL\")"
   ]
  },
  {
   "cell_type": "code",
   "execution_count": 7,
   "metadata": {},
   "outputs": [
    {
     "data": {
      "text/plain": [
       "<tf.Tensor: shape=(), dtype=float32, numpy=0.52999437>"
      ]
     },
     "execution_count": 7,
     "metadata": {},
     "output_type": "execute_result"
    }
   ],
   "source": [
    "test_ticker(model, \"HDB\")"
   ]
  },
  {
   "cell_type": "code",
   "execution_count": 8,
   "metadata": {},
   "outputs": [
    {
     "data": {
      "text/plain": [
       "<tf.Tensor: shape=(), dtype=float32, numpy=0.5092857>"
      ]
     },
     "execution_count": 8,
     "metadata": {},
     "output_type": "execute_result"
    }
   ],
   "source": [
    "test_ticker(model, \"SAP\")"
   ]
  },
  {
   "cell_type": "code",
   "execution_count": 9,
   "metadata": {},
   "outputs": [
    {
     "data": {
      "text/plain": [
       "<tf.Tensor: shape=(), dtype=float32, numpy=0.5355357>"
      ]
     },
     "execution_count": 9,
     "metadata": {},
     "output_type": "execute_result"
    }
   ],
   "source": [
    "test_ticker(model, \"RY\")"
   ]
  },
  {
   "attachments": {},
   "cell_type": "markdown",
   "metadata": {},
   "source": [
    "## Backtesting trading performance\n"
   ]
  },
  {
   "cell_type": "code",
   "execution_count": 10,
   "metadata": {},
   "outputs": [
    {
     "data": {
      "text/plain": [
       "<tf.Tensor: shape=(), dtype=float32, numpy=0.5292857>"
      ]
     },
     "execution_count": 10,
     "metadata": {},
     "output_type": "execute_result"
    }
   ],
   "source": [
    "test_ticker(model, \"JPM\")"
   ]
  },
  {
   "cell_type": "code",
   "execution_count": 11,
   "metadata": {},
   "outputs": [
    {
     "data": {
      "text/html": [
       "<div>\n",
       "<style scoped>\n",
       "    .dataframe tbody tr th:only-of-type {\n",
       "        vertical-align: middle;\n",
       "    }\n",
       "\n",
       "    .dataframe tbody tr th {\n",
       "        vertical-align: top;\n",
       "    }\n",
       "\n",
       "    .dataframe thead th {\n",
       "        text-align: right;\n",
       "    }\n",
       "</style>\n",
       "<table border=\"1\" class=\"dataframe\">\n",
       "  <thead>\n",
       "    <tr style=\"text-align: right;\">\n",
       "      <th></th>\n",
       "      <th>RY_Open</th>\n",
       "      <th>RY_High</th>\n",
       "      <th>RY_Low</th>\n",
       "      <th>RY_Close</th>\n",
       "      <th>RY_Volume</th>\n",
       "      <th>RY_Close_RSI</th>\n",
       "      <th>QQQ_Close</th>\n",
       "      <th>^TNX_Close</th>\n",
       "      <th>^VIX_Close</th>\n",
       "      <th>CL=F_Close</th>\n",
       "      <th>RY_Close_Future</th>\n",
       "      <th>Target</th>\n",
       "    </tr>\n",
       "    <tr>\n",
       "      <th>Date</th>\n",
       "      <th></th>\n",
       "      <th></th>\n",
       "      <th></th>\n",
       "      <th></th>\n",
       "      <th></th>\n",
       "      <th></th>\n",
       "      <th></th>\n",
       "      <th></th>\n",
       "      <th></th>\n",
       "      <th></th>\n",
       "      <th></th>\n",
       "      <th></th>\n",
       "    </tr>\n",
       "  </thead>\n",
       "  <tbody>\n",
       "    <tr>\n",
       "      <th>2000-08-23</th>\n",
       "      <td>14.468750</td>\n",
       "      <td>14.625000</td>\n",
       "      <td>14.453125</td>\n",
       "      <td>14.562500</td>\n",
       "      <td>23600</td>\n",
       "      <td>65.831297</td>\n",
       "      <td>97.062500</td>\n",
       "      <td>5.725</td>\n",
       "      <td>17.379999</td>\n",
       "      <td>32.049999</td>\n",
       "      <td>15.625000</td>\n",
       "      <td>1</td>\n",
       "    </tr>\n",
       "    <tr>\n",
       "      <th>2000-08-24</th>\n",
       "      <td>14.609375</td>\n",
       "      <td>14.609375</td>\n",
       "      <td>14.421875</td>\n",
       "      <td>14.468750</td>\n",
       "      <td>34800</td>\n",
       "      <td>62.465621</td>\n",
       "      <td>98.562500</td>\n",
       "      <td>5.716</td>\n",
       "      <td>17.040001</td>\n",
       "      <td>31.629999</td>\n",
       "      <td>15.593750</td>\n",
       "      <td>1</td>\n",
       "    </tr>\n",
       "    <tr>\n",
       "      <th>2000-08-25</th>\n",
       "      <td>14.406250</td>\n",
       "      <td>14.406250</td>\n",
       "      <td>14.265625</td>\n",
       "      <td>14.296875</td>\n",
       "      <td>16400</td>\n",
       "      <td>56.738409</td>\n",
       "      <td>98.031250</td>\n",
       "      <td>5.721</td>\n",
       "      <td>16.530001</td>\n",
       "      <td>32.049999</td>\n",
       "      <td>15.812500</td>\n",
       "      <td>1</td>\n",
       "    </tr>\n",
       "    <tr>\n",
       "      <th>2000-08-28</th>\n",
       "      <td>14.312500</td>\n",
       "      <td>14.375000</td>\n",
       "      <td>14.281250</td>\n",
       "      <td>14.375000</td>\n",
       "      <td>32000</td>\n",
       "      <td>58.596640</td>\n",
       "      <td>98.500000</td>\n",
       "      <td>5.766</td>\n",
       "      <td>16.540001</td>\n",
       "      <td>32.869999</td>\n",
       "      <td>15.515625</td>\n",
       "      <td>1</td>\n",
       "    </tr>\n",
       "    <tr>\n",
       "      <th>2000-08-29</th>\n",
       "      <td>14.359375</td>\n",
       "      <td>14.437500</td>\n",
       "      <td>14.312500</td>\n",
       "      <td>14.359375</td>\n",
       "      <td>15600</td>\n",
       "      <td>58.059503</td>\n",
       "      <td>99.000000</td>\n",
       "      <td>5.808</td>\n",
       "      <td>16.889999</td>\n",
       "      <td>32.720001</td>\n",
       "      <td>15.312500</td>\n",
       "      <td>1</td>\n",
       "    </tr>\n",
       "    <tr>\n",
       "      <th>...</th>\n",
       "      <td>...</td>\n",
       "      <td>...</td>\n",
       "      <td>...</td>\n",
       "      <td>...</td>\n",
       "      <td>...</td>\n",
       "      <td>...</td>\n",
       "      <td>...</td>\n",
       "      <td>...</td>\n",
       "      <td>...</td>\n",
       "      <td>...</td>\n",
       "      <td>...</td>\n",
       "      <td>...</td>\n",
       "    </tr>\n",
       "    <tr>\n",
       "      <th>2023-03-29</th>\n",
       "      <td>94.110001</td>\n",
       "      <td>94.629997</td>\n",
       "      <td>93.830002</td>\n",
       "      <td>94.459999</td>\n",
       "      <td>615500</td>\n",
       "      <td>42.217710</td>\n",
       "      <td>312.720001</td>\n",
       "      <td>3.566</td>\n",
       "      <td>19.120001</td>\n",
       "      <td>72.970001</td>\n",
       "      <td>98.440002</td>\n",
       "      <td>1</td>\n",
       "    </tr>\n",
       "    <tr>\n",
       "      <th>2023-03-30</th>\n",
       "      <td>95.419998</td>\n",
       "      <td>95.660004</td>\n",
       "      <td>94.760002</td>\n",
       "      <td>94.949997</td>\n",
       "      <td>398900</td>\n",
       "      <td>44.402930</td>\n",
       "      <td>315.679993</td>\n",
       "      <td>3.551</td>\n",
       "      <td>19.020000</td>\n",
       "      <td>74.370003</td>\n",
       "      <td>99.309998</td>\n",
       "      <td>1</td>\n",
       "    </tr>\n",
       "    <tr>\n",
       "      <th>2023-03-31</th>\n",
       "      <td>95.139999</td>\n",
       "      <td>95.610001</td>\n",
       "      <td>95.010002</td>\n",
       "      <td>95.580002</td>\n",
       "      <td>591700</td>\n",
       "      <td>47.169366</td>\n",
       "      <td>320.929993</td>\n",
       "      <td>3.494</td>\n",
       "      <td>18.700001</td>\n",
       "      <td>75.669998</td>\n",
       "      <td>99.190002</td>\n",
       "      <td>1</td>\n",
       "    </tr>\n",
       "    <tr>\n",
       "      <th>2023-04-03</th>\n",
       "      <td>96.750000</td>\n",
       "      <td>97.610001</td>\n",
       "      <td>96.599998</td>\n",
       "      <td>97.580002</td>\n",
       "      <td>791900</td>\n",
       "      <td>54.850002</td>\n",
       "      <td>320.149994</td>\n",
       "      <td>3.430</td>\n",
       "      <td>18.549999</td>\n",
       "      <td>80.419998</td>\n",
       "      <td>96.489998</td>\n",
       "      <td>0</td>\n",
       "    </tr>\n",
       "    <tr>\n",
       "      <th>2023-04-04</th>\n",
       "      <td>97.709999</td>\n",
       "      <td>98.089996</td>\n",
       "      <td>96.080002</td>\n",
       "      <td>97.019997</td>\n",
       "      <td>725900</td>\n",
       "      <td>52.546432</td>\n",
       "      <td>319.070007</td>\n",
       "      <td>3.337</td>\n",
       "      <td>19.000000</td>\n",
       "      <td>80.709999</td>\n",
       "      <td>96.239998</td>\n",
       "      <td>0</td>\n",
       "    </tr>\n",
       "  </tbody>\n",
       "</table>\n",
       "<p>5669 rows × 12 columns</p>\n",
       "</div>"
      ],
      "text/plain": [
       "              RY_Open    RY_High     RY_Low   RY_Close  RY_Volume   \n",
       "Date                                                                \n",
       "2000-08-23  14.468750  14.625000  14.453125  14.562500      23600  \\\n",
       "2000-08-24  14.609375  14.609375  14.421875  14.468750      34800   \n",
       "2000-08-25  14.406250  14.406250  14.265625  14.296875      16400   \n",
       "2000-08-28  14.312500  14.375000  14.281250  14.375000      32000   \n",
       "2000-08-29  14.359375  14.437500  14.312500  14.359375      15600   \n",
       "...               ...        ...        ...        ...        ...   \n",
       "2023-03-29  94.110001  94.629997  93.830002  94.459999     615500   \n",
       "2023-03-30  95.419998  95.660004  94.760002  94.949997     398900   \n",
       "2023-03-31  95.139999  95.610001  95.010002  95.580002     591700   \n",
       "2023-04-03  96.750000  97.610001  96.599998  97.580002     791900   \n",
       "2023-04-04  97.709999  98.089996  96.080002  97.019997     725900   \n",
       "\n",
       "            RY_Close_RSI   QQQ_Close  ^TNX_Close  ^VIX_Close  CL=F_Close   \n",
       "Date                                                                       \n",
       "2000-08-23     65.831297   97.062500       5.725   17.379999   32.049999  \\\n",
       "2000-08-24     62.465621   98.562500       5.716   17.040001   31.629999   \n",
       "2000-08-25     56.738409   98.031250       5.721   16.530001   32.049999   \n",
       "2000-08-28     58.596640   98.500000       5.766   16.540001   32.869999   \n",
       "2000-08-29     58.059503   99.000000       5.808   16.889999   32.720001   \n",
       "...                  ...         ...         ...         ...         ...   \n",
       "2023-03-29     42.217710  312.720001       3.566   19.120001   72.970001   \n",
       "2023-03-30     44.402930  315.679993       3.551   19.020000   74.370003   \n",
       "2023-03-31     47.169366  320.929993       3.494   18.700001   75.669998   \n",
       "2023-04-03     54.850002  320.149994       3.430   18.549999   80.419998   \n",
       "2023-04-04     52.546432  319.070007       3.337   19.000000   80.709999   \n",
       "\n",
       "            RY_Close_Future  Target  \n",
       "Date                                 \n",
       "2000-08-23        15.625000       1  \n",
       "2000-08-24        15.593750       1  \n",
       "2000-08-25        15.812500       1  \n",
       "2000-08-28        15.515625       1  \n",
       "2000-08-29        15.312500       1  \n",
       "...                     ...     ...  \n",
       "2023-03-29        98.440002       1  \n",
       "2023-03-30        99.309998       1  \n",
       "2023-03-31        99.190002       1  \n",
       "2023-04-03        96.489998       0  \n",
       "2023-04-04        96.239998       0  \n",
       "\n",
       "[5669 rows x 12 columns]"
      ]
     },
     "execution_count": 11,
     "metadata": {},
     "output_type": "execute_result"
    }
   ],
   "source": [
    "create_df(\"RY\")"
   ]
  },
  {
   "cell_type": "code",
   "execution_count": null,
   "metadata": {},
   "outputs": [],
   "source": []
  }
 ],
 "metadata": {
  "kernelspec": {
   "display_name": ".venv",
   "language": "python",
   "name": "python3"
  },
  "language_info": {
   "codemirror_mode": {
    "name": "ipython",
    "version": 3
   },
   "file_extension": ".py",
   "mimetype": "text/x-python",
   "name": "python",
   "nbconvert_exporter": "python",
   "pygments_lexer": "ipython3",
   "version": "3.10.4"
  },
  "orig_nbformat": 4
 },
 "nbformat": 4,
 "nbformat_minor": 2
}
